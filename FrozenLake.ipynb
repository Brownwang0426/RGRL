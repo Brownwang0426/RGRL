{
  "cells": [
    {
      "cell_type": "markdown",
      "metadata": {
        "id": "view-in-github",
        "colab_type": "text"
      },
      "source": [
        "<a href=\"https://colab.research.google.com/github/Brownwang0426/Genrl/blob/main/FrozenLake.ipynb\" target=\"_parent\"><img src=\"https://colab.research.google.com/assets/colab-badge.svg\" alt=\"Open In Colab\"/></a>"
      ]
    },
    {
      "cell_type": "markdown",
      "metadata": {
        "id": "BT4dy82Rf-v1"
      },
      "source": [
        "# Installing requirements"
      ]
    },
    {
      "cell_type": "code",
      "execution_count": null,
      "metadata": {
        "id": "4khPQ2_Kf-v1"
      },
      "outputs": [],
      "source": [
        "!sudo apt-get install python3.10"
      ]
    },
    {
      "cell_type": "code",
      "execution_count": null,
      "metadata": {
        "id": "m0y9RfWif-v2"
      },
      "outputs": [],
      "source": [
        "!pip install pandas==2.0.3 numpy==1.25.2 scipy==1.11.4 swig==4.2.1 ufal.pybox2d==2.3.10.3 gym==0.25.2 pygame==2.5.2 tqdm torch==2.0.1"
      ]
    },
    {
      "cell_type": "markdown",
      "metadata": {
        "id": "z6kEiLW6f-v2"
      },
      "source": [
        "# Importing modules"
      ]
    },
    {
      "cell_type": "code",
      "execution_count": 1,
      "metadata": {
        "id": "mVWhBy17f-v3"
      },
      "outputs": [],
      "source": [
        "import numpy as np\n",
        "import pandas as pd\n",
        "from scipy.special import expit\n",
        "import gym\n",
        "import copy\n",
        "import os\n",
        "import sys\n",
        "from tqdm import tqdm\n",
        "import random\n",
        "import math\n",
        "\n",
        "import pickle\n",
        "\n",
        "import multiprocessing\n",
        "import time\n",
        "import csv\n",
        "from collections import Counter"
      ]
    },
    {
      "cell_type": "code",
      "execution_count": 2,
      "metadata": {
        "colab": {
          "base_uri": "https://localhost:8080/"
        },
        "id": "229QV7Hhf-v3",
        "outputId": "05c5ec73-9dcd-4c07-e346-54bd5b00292a"
      },
      "outputs": [
        {
          "output_type": "stream",
          "name": "stderr",
          "text": [
            "/usr/local/lib/python3.10/dist-packages/ipykernel/ipkernel.py:283: DeprecationWarning: `should_run_async` will not call `transform_cell` automatically in the future. Please pass the result to `transformed_cell` argument and any exception that happen during thetransform in `preprocessing_exc_tuple` in IPython 7.17 and above.\n",
            "  and should_run_async(code)\n"
          ]
        }
      ],
      "source": [
        "import torch\n",
        "import torch.nn as nn\n",
        "import torch.optim as optim\n",
        "import torch.nn.functional as F\n",
        "import torch.nn.utils.rnn as rnn_utils\n",
        "from torch.utils.data import DataLoader, TensorDataset\n",
        "import gc"
      ]
    },
    {
      "cell_type": "markdown",
      "metadata": {
        "id": "PVFl56P3ybFh"
      },
      "source": [
        "# Checking cuda"
      ]
    },
    {
      "cell_type": "code",
      "execution_count": 3,
      "metadata": {
        "id": "0RSbkxtSybFi",
        "outputId": "ac1fc235-715b-48c0-e967-4cc7a705faea",
        "colab": {
          "base_uri": "https://localhost:8080/"
        }
      },
      "outputs": [
        {
          "output_type": "stream",
          "name": "stdout",
          "text": [
            "Device 0: Tesla T4\n",
            "using cuda...\n"
          ]
        },
        {
          "output_type": "stream",
          "name": "stderr",
          "text": [
            "/usr/local/lib/python3.10/dist-packages/ipykernel/ipkernel.py:283: DeprecationWarning: `should_run_async` will not call `transform_cell` automatically in the future. Please pass the result to `transformed_cell` argument and any exception that happen during thetransform in `preprocessing_exc_tuple` in IPython 7.17 and above.\n",
            "  and should_run_async(code)\n"
          ]
        }
      ],
      "source": [
        "if torch.cuda.is_available():\n",
        "    for i in range(torch.cuda.device_count()):\n",
        "        print(f\"Device {i}: {torch.cuda.get_device_name(i)}\")\n",
        "    device_index = 0\n",
        "    device = torch.device(f\"cuda:{device_index}\")\n",
        "    print('using cuda...')\n",
        "else:\n",
        "    device = torch.device(\"cpu\")\n",
        "    print('using cpu...')\n",
        "assert device != torch.device(\"cpu\") # Sorry, but we really recommend you to run it on GPU :-) Nvidia needs your money :-)"
      ]
    },
    {
      "cell_type": "code",
      "execution_count": 4,
      "metadata": {
        "id": "46633u4mybFi"
      },
      "outputs": [],
      "source": [
        "torch.backends.cudnn.enabled = True\n",
        "torch.backends.cudnn.benchmark = True"
      ]
    },
    {
      "cell_type": "markdown",
      "metadata": {
        "id": "rjp1glh_ybFj"
      },
      "source": [
        "# Class for building model"
      ]
    },
    {
      "cell_type": "code",
      "execution_count": 18,
      "metadata": {
        "id": "7rZC3T9IXZDP"
      },
      "outputs": [],
      "source": [
        "class build_model(nn.Module):\n",
        "    def __init__(self,\n",
        "                 input_neuron_size_,\n",
        "                 hidden_neuron_size,\n",
        "                 input_neuron_size,\n",
        "                 input_sequence_size,\n",
        "                 output_neuron_size,\n",
        "                 neural_type,\n",
        "                 num_layers,\n",
        "                 num_heads,\n",
        "                 hidden_activation,\n",
        "                 output_activation,\n",
        "                 initializer,\n",
        "                 optimizer,\n",
        "                 loss,\n",
        "                 alpha,\n",
        "                 mask_value):\n",
        "\n",
        "        super(build_model, self).__init__()\n",
        "\n",
        "        self.input_neuron_size_   = int(input_neuron_size_)\n",
        "        self.hidden_neuron_size   = int(hidden_neuron_size)\n",
        "        self.input_neuron_size    = int(input_neuron_size)\n",
        "        self.input_sequence_size  = int(input_sequence_size)\n",
        "        self.output_neuron_size   = int(output_neuron_size)\n",
        "        self.neural_type          = neural_type\n",
        "        self.num_heads            = num_heads\n",
        "\n",
        "        self.hidden_activation    = hidden_activation\n",
        "        self.output_activation    = output_activation\n",
        "        self.initializer          = initializer\n",
        "        self.optimizer            = optimizer\n",
        "        self.loss                 = loss\n",
        "        self.alpha                = alpha\n",
        "        self.mask_value           = mask_value\n",
        "\n",
        "        self.bias = False\n",
        "\n",
        "        self.num_layers = num_layers\n",
        "\n",
        "        neural_types = {\n",
        "            'rnn': nn.RNN,\n",
        "            'gru': nn.GRU,\n",
        "            'lstm': nn.LSTM\n",
        "        }\n",
        "\n",
        "        self.fully_connected_layer_in_0      = nn.Linear(self.input_neuron_size_, self.hidden_neuron_size, bias=self.bias)\n",
        "        self.fully_connected_layer_in_1      = nn.Linear(self.hidden_neuron_size, self.hidden_neuron_size, bias=self.bias)\n",
        "\n",
        "        self.fully_connected_layer_out_0     = nn.Linear(self.hidden_neuron_size, self.hidden_neuron_size, bias=self.bias)\n",
        "        self.fully_connected_layer_out_1     = nn.Linear(self.hidden_neuron_size, self.input_neuron_size_, bias=self.bias)\n",
        "\n",
        "        self.recurrent_layer_0               = neural_types[neural_type.lower()](self.input_neuron_size, self.hidden_neuron_size, num_layers=self.num_layers, batch_first=False, bias=self.bias)\n",
        "\n",
        "        # self.attention_layer_0               = nn.MultiheadAttention(self.hidden_neuron_size, self.num_heads)\n",
        "        self.fully_connected_layer_0         = nn.Linear(self.hidden_neuron_size * self.input_sequence_size, self.output_neuron_size, bias=self.bias)\n",
        "        # self.fully_connected_layer_1         = nn.Linear(self.hidden_neuron_size, self.output_neuron_size, bias=self.bias)\n",
        "\n",
        "        # Activation functions\n",
        "        self.hidden_activation = self.get_activation(self.hidden_activation)\n",
        "        self.output_activation = self.get_activation(self.output_activation)\n",
        "\n",
        "        # Initialize weights for fully connected layers\n",
        "        self.initialize_weights(self.initializer  )\n",
        "\n",
        "        # Optimizer\n",
        "        optimizers = {\n",
        "            'adam': optim.Adam,\n",
        "            'sgd': optim.SGD,\n",
        "            'rmsprop': optim.RMSprop\n",
        "        }\n",
        "        self.selected_optimizer = optimizers[self.optimizer.lower()](self.parameters(), lr=self.alpha)\n",
        "\n",
        "        # Loss function\n",
        "        losses = {\n",
        "            'mean_squared_error': torch.nn.MSELoss(),\n",
        "            'binary_crossentropy': torch.nn.BCELoss()\n",
        "        }\n",
        "        self.loss_function = losses[self.loss .lower()]\n",
        "\n",
        "    def forward(self, initial_hidden, x, padding_mask):\n",
        "\n",
        "        h  = self.fully_connected_layer_in_0(initial_hidden)\n",
        "        h  = self.hidden_activation(h)\n",
        "        h  = self.fully_connected_layer_in_1(h)\n",
        "        h  = self.hidden_activation(h)\n",
        "        h  = torch.unsqueeze(h, dim=0).repeat(self.num_layers, 1, 1)\n",
        "\n",
        "        out        = x.permute(1, 0, 2)\n",
        "        lengths    = (out != self.mask_value).any(dim=2).sum(dim=0).cpu().long() # since x is (sequence_length, batch_size, input_size), we should use sum(dim=0)\n",
        "        out        = rnn_utils.pack_padded_sequence(out, lengths, batch_first=False, enforce_sorted=False)\n",
        "        # Forward propagate RNN\n",
        "        if self.neural_type == 'lstm':\n",
        "            out, h   = self.recurrent_layer_0(out, (h, h))\n",
        "            h        = h[0]\n",
        "        else:\n",
        "            out, h   = self.recurrent_layer_0(out, h)\n",
        "            h        = h\n",
        "        out, _     = rnn_utils.pad_packed_sequence(out, batch_first=False)\n",
        "        padding    = (0, 0, 0, 0, 0, self.input_sequence_size - out.size(0))\n",
        "        out        = F.pad(out, padding, \"constant\", 0)\n",
        "        out        = out.permute(1, 0, 2)\n",
        "\n",
        "        h  = self.fully_connected_layer_out_0(h)\n",
        "        h  = self.hidden_activation(h)\n",
        "        h  = self.fully_connected_layer_out_1(h)\n",
        "        h  = self.output_activation(h)\n",
        "\n",
        "        # if padding_mask is not None:\n",
        "        #     padding_mask = torch.any(padding_mask, dim=-1) # to (batch_size, sequence_length)\n",
        "        # out, _ = self.attention_layer_0(out, out, out, padding_mask)\n",
        "        out    = torch.flatten(out, start_dim=1)\n",
        "        out    = self.fully_connected_layer_0(out)\n",
        "        # out    = self.hidden_activation(out)\n",
        "        # out    = self.fully_connected_layer_1(out)\n",
        "        out    = self.output_activation(out)\n",
        "\n",
        "        return out, h\n",
        "\n",
        "\n",
        "\n",
        "\n",
        "    def get_activation(self,  activation):\n",
        "        activations = {\n",
        "            'relu': nn.ReLU(),\n",
        "            'leaky_relu': nn.LeakyReLU(),\n",
        "            'sigmoid': nn.Sigmoid(),\n",
        "            'tanh': nn.Tanh()\n",
        "        }\n",
        "        return activations[ activation.lower()]\n",
        "\n",
        "    def initialize_weights(self, initializer):\n",
        "        initializers = {\n",
        "            'random_uniform': nn.init.uniform_,\n",
        "            'random_normal': nn.init.normal_,\n",
        "            'glorot_uniform': nn.init.xavier_uniform_,\n",
        "            'glorot_normal': nn.init.xavier_normal_,\n",
        "            'xavier_uniform': nn.init.xavier_uniform_,\n",
        "            'xavier_normal': nn.init.xavier_normal_\n",
        "        }\n",
        "        initializer = initializers[initializer.lower()]\n",
        "        for layer in self.children():\n",
        "            if isinstance(layer, nn.Linear):\n",
        "                initializer(layer.weight)"
      ]
    },
    {
      "cell_type": "markdown",
      "metadata": {
        "id": "RZ6Z3BUWybFk"
      },
      "source": [
        "# Function for updating input value using error backprop"
      ]
    },
    {
      "cell_type": "code",
      "execution_count": 19,
      "metadata": {
        "id": "ibjd5YRvpQPL"
      },
      "outputs": [],
      "source": [
        "\n",
        "def update_actions_value(epoch_for_deducing,\n",
        "            model_loader,\n",
        "            desired_reward,\n",
        "            state,\n",
        "            actions_value,\n",
        "            beta):\n",
        "\n",
        "    model_loader_ = copy.deepcopy(model_loader)\n",
        "\n",
        "    for epoch in range(epoch_for_deducing):\n",
        "\n",
        "        random.shuffle(model_loader_)\n",
        "\n",
        "        for model in model_loader_:\n",
        "\n",
        "            action = torch.sigmoid(actions_value)\n",
        "\n",
        "            action = action.clone().detach().requires_grad_(True)\n",
        "            if action.grad is not None:\n",
        "                action.grad.zero_()\n",
        "            for param in model.parameters():\n",
        "                param.requires_grad = False\n",
        "            loss_function = model.loss_function\n",
        "\n",
        "            output, _ = model(state, action, padding_mask=None)\n",
        "            total_loss = loss_function(output, desired_reward)\n",
        "\n",
        "            total_loss.backward() # Error Backpropagation\n",
        "            actions_value -= action.grad * (1 - action) * action * beta # Update Input Data\n",
        "\n",
        "    return actions_value\n",
        "\n",
        "\n"
      ]
    },
    {
      "cell_type": "markdown",
      "metadata": {
        "id": "KXh3yrwTybFl"
      },
      "source": [
        "# Function for updating weight matrices using error backprop\n",
        "\n",
        "Elastic weight consolidation:\n",
        "https://arxiv.org/pdf/1612.00796"
      ]
    },
    {
      "cell_type": "code",
      "execution_count": 20,
      "metadata": {
        "id": "29k_wSoiybFl"
      },
      "outputs": [],
      "source": [
        "# Traditional EWC\n",
        "def EWC_loss( EWC_lambda, model, present_model, present_gradient_matrix, prev_model, prev_gradient_matrix, prev_train_loader_size):\n",
        "    prev_model_param = prev_model.state_dict()\n",
        "    loss = 0\n",
        "    for name, param in model.named_parameters():\n",
        "        loss += ( ((prev_gradient_matrix[name])**2) * ((param - prev_model_param[name])**2)     ).sum()\n",
        "    return EWC_lambda * loss\n",
        "\n",
        "def update_model(batch_size,\n",
        "                 epoch_for_learning,\n",
        "                 model,\n",
        "                 train_loader,\n",
        "                 dataset,\n",
        "                 prev_model,\n",
        "                 prev_gradient_matrix,\n",
        "                 prev_train_loader_size,\n",
        "                 EWC_lambda):\n",
        "\n",
        "\n",
        "\n",
        "\n",
        "    # retrieving present_gradient_matrix\n",
        "    present_model = copy.deepcopy(model)\n",
        "    present_gradient_matrix =  {name: torch.zeros_like(param) for name, param in model.named_parameters()}\n",
        "\n",
        "    for epoch in range(1):\n",
        "\n",
        "        model.train()\n",
        "\n",
        "        selected_optimizer = model.selected_optimizer\n",
        "        for param_group in selected_optimizer.param_groups:\n",
        "            param_group['lr'] = model.alpha * batch_size\n",
        "\n",
        "        for state, action, reward, next_state, padding_mask in train_loader:\n",
        "\n",
        "            next_state  = torch.unsqueeze(next_state, dim=0).repeat(model.num_layers, 1, 1)\n",
        "\n",
        "            selected_optimizer.zero_grad()\n",
        "            loss_function = model.loss_function\n",
        "\n",
        "            output, output_state = model(state, action, padding_mask)\n",
        "            total_loss = loss_function(output, reward) + loss_function(output_state, next_state)\n",
        "\n",
        "            total_loss.backward()     # Error Backpropagation\n",
        "\n",
        "            for name, param in model.named_parameters():\n",
        "                present_gradient_matrix[name] += param.grad\n",
        "\n",
        "    present_gradient_matrix = {name: param / len(train_loader) for name, param in present_gradient_matrix.items()}\n",
        "\n",
        "\n",
        "\n",
        "\n",
        "    for epoch in range(epoch_for_learning):\n",
        "\n",
        "        model.train()\n",
        "\n",
        "        selected_optimizer = model.selected_optimizer\n",
        "        for param_group in selected_optimizer.param_groups:\n",
        "            param_group['lr'] = model.alpha * batch_size\n",
        "\n",
        "        for state, action, reward, next_state, padding_mask in train_loader:\n",
        "\n",
        "            next_state  = torch.unsqueeze(next_state, dim=0).repeat(model.num_layers, 1, 1)\n",
        "\n",
        "            selected_optimizer.zero_grad()\n",
        "            loss_function = model.loss_function\n",
        "\n",
        "            output, output_state = model(state, action, padding_mask)\n",
        "            total_loss = loss_function(output, reward)  + loss_function(output_state, next_state)\n",
        "\n",
        "            total_loss += EWC_loss(EWC_lambda, model, present_model, present_gradient_matrix, prev_model, prev_gradient_matrix, prev_train_loader_size)\n",
        "\n",
        "            total_loss.backward()     # Error Backpropagation\n",
        "\n",
        "            selected_optimizer.step() # Update Model Weight\n",
        "\n",
        "\n",
        "\n",
        "\n",
        "    # training and updating present_gradient_matrix\n",
        "    updated_present_gradient_matrix = {name: torch.zeros_like(param) for name, param in model.named_parameters()}\n",
        "\n",
        "    for epoch in range(1):\n",
        "\n",
        "        model.train()\n",
        "\n",
        "        selected_optimizer = model.selected_optimizer\n",
        "        for param_group in selected_optimizer.param_groups:\n",
        "            param_group['lr'] = model.alpha * batch_size\n",
        "\n",
        "        for state, action, reward, next_state, padding_mask in train_loader:\n",
        "\n",
        "            next_state  = torch.unsqueeze(next_state, dim=0).repeat(model.num_layers, 1, 1)\n",
        "\n",
        "            selected_optimizer.zero_grad()\n",
        "            loss_function = model.loss_function\n",
        "\n",
        "            output, output_state = model(state, action, padding_mask)\n",
        "            total_loss = loss_function(output, reward)  + loss_function(output_state, next_state)\n",
        "\n",
        "            total_loss.backward()     # Error Backpropagation\n",
        "\n",
        "            for name, param in model.named_parameters():\n",
        "                updated_present_gradient_matrix[name] += param.grad\n",
        "\n",
        "    updated_present_gradient_matrix = {name: param / len(train_loader) for name, param in updated_present_gradient_matrix.items()}\n",
        "\n",
        "\n",
        "\n",
        "\n",
        "\n",
        "    present_train_loader_size = len(train_loader) + prev_train_loader_size\n",
        "\n",
        "    return model, present_gradient_matrix, present_train_loader_size"
      ]
    },
    {
      "cell_type": "markdown",
      "metadata": {
        "id": "UyeM_NLYybFm"
      },
      "source": [
        "# Function for re-initializing action value in each step"
      ]
    },
    {
      "cell_type": "code",
      "execution_count": 21,
      "metadata": {
        "id": "PlPeg47KB9u4"
      },
      "outputs": [],
      "source": [
        "def initialize_actions_value(init, noise_t, noise_r, shape):\n",
        "    input = 0\n",
        "    if   init == \"random_uniform\":\n",
        "        for _ in range(noise_t):\n",
        "            input += np.array([  np.random.uniform(low=0, high=1, size=shape)    ]) * noise_r\n",
        "    elif init == \"random_normal\":\n",
        "        for _ in range(noise_t):\n",
        "            input += np.array([  np.random.normal(loc=0.0, scale= 1, size= shape )    ])  * noise_r\n",
        "    elif init == \"glorot_uniform\":\n",
        "        for _ in range(noise_t):\n",
        "            limit = np.sqrt(6 / (shape[1] + shape[1]))\n",
        "            input += np.array([  np.random.uniform(low=-limit, high=limit, size=shape)    ])  * noise_r\n",
        "    elif init == \"glorot_normal\":\n",
        "        for _ in range(noise_t):\n",
        "            input += np.array([  np.random.normal(loc=0.0, scale= np.sqrt(2 / (shape[1] + shape[1])) , size= shape )    ])  * noise_r\n",
        "    elif init == \"xavier_uniform\":\n",
        "        for _ in range(noise_t):\n",
        "            limit = np.sqrt(6 / (shape[1] + shape[1]))\n",
        "            input += np.array([  np.random.uniform(low=-limit, high=limit, size=shape)    ])  * noise_r\n",
        "    elif init == \"xavier_normal\":\n",
        "        for _ in range(noise_t):\n",
        "            input += np.array([  np.random.normal(loc=0.0, scale= np.sqrt(2 / (shape[1] + shape[1])) , size= shape )    ])  * noise_r\n",
        "    return input"
      ]
    },
    {
      "cell_type": "markdown",
      "metadata": {
        "id": "26pakCHfybFm"
      },
      "source": [
        "# Function for sequentializing state, action and reward"
      ]
    },
    {
      "cell_type": "code",
      "execution_count": 22,
      "metadata": {
        "id": "9qGocnYQJ4FO"
      },
      "outputs": [],
      "source": [
        "def sequentialize(state_list, action_list, reward_list, chunk_size):\n",
        "\n",
        "    sequentialized_state_list  = []\n",
        "    sequentialized_action_list = []\n",
        "    sequentialized_reward_list = []\n",
        "    sequentialized_next_state_list  = []\n",
        "\n",
        "    if chunk_size > len(state_list[:-1]):\n",
        "        chunk_size = len(state_list[:-1])\n",
        "    else:\n",
        "      pass\n",
        "\n",
        "    for j in range(chunk_size):\n",
        "        chunk_size_ = j+1\n",
        "        if chunk_size != 1:\n",
        "            for i in range(len(reward_list[:-chunk_size_+1])):\n",
        "                sequentialized_state_list.append(       state_list [ i ] )\n",
        "                sequentialized_action_list.append(      action_list[ i : i+chunk_size_]  )\n",
        "                sequentialized_reward_list.append(      reward_list[ i + len(action_list[i:i+chunk_size_]) - 1 ]  )\n",
        "                sequentialized_next_state_list.append(  state_list [ i + len(action_list[i:i+chunk_size_])     ]  )\n",
        "        else:\n",
        "            for i in range(len(reward_list[:])):\n",
        "                sequentialized_state_list.append(       state_list [ i ] )\n",
        "                sequentialized_action_list.append(      action_list[ i : i+chunk_size_]  )\n",
        "                sequentialized_reward_list.append(      reward_list[ i + len(action_list[i:i+chunk_size_]) - 1 ]  )\n",
        "                sequentialized_next_state_list.append(  state_list [ i + len(action_list[i:i+chunk_size_])     ]  )\n",
        "\n",
        "\n",
        "    return sequentialized_state_list, sequentialized_action_list, sequentialized_reward_list, sequentialized_next_state_list\n"
      ]
    },
    {
      "cell_type": "code",
      "execution_count": 23,
      "metadata": {
        "id": "1pAeDkANCOE0"
      },
      "outputs": [],
      "source": [
        "def save_performance_to_csv(performance_log, filename='performance_log.csv'):\n",
        "    with open(filename, mode='w', newline='') as file:\n",
        "        writer = csv.writer(file)\n",
        "        writer.writerow(['Episode', 'Summed_Reward'])\n",
        "        writer.writerows(performance_log)"
      ]
    },
    {
      "cell_type": "markdown",
      "metadata": {
        "id": "DrzJojLrybFn"
      },
      "source": [
        "# Function for vectorizing\n",
        "Crucial function regarding how you manipulate or shape your state, action and reward\n",
        "\n",
        "- It's essential to choose between immediate rewards and summed rewards for training your agent. If the current state doesn't encapsulate all crucial past information, using immediate rewards is advisable. This approach prevents confusion caused by varying summed rewards for the same state.\n",
        "\n",
        "- As for reward shaping, it is recommended to increase your reward upper and decrease your reward lower bound."
      ]
    },
    {
      "cell_type": "code",
      "execution_count": 24,
      "metadata": {
        "id": "STfoPbTXybFn"
      },
      "outputs": [],
      "source": [
        "\n",
        "def quantifying(array_size, init, interval, input):\n",
        "    array = np.zeros(array_size)\n",
        "    index = int( (input - init) // interval + 1)\n",
        "    if index >= 0:\n",
        "        array[ : index] = 1\n",
        "    return array\n",
        "\n",
        "def vectorizing_state(state):      # Reminder: change this for your specific task ⚠️⚠️⚠️\n",
        "    state_0      = np.eye(16)[state]\n",
        "    state        = np.atleast_2d(state_0)\n",
        "    return state\n",
        "\n",
        "def vectorizing_action(action_size, action_arg):  # Reminder: change this for your specific task ⚠️⚠️⚠️\n",
        "    return np.eye(action_size)[action_arg]\n",
        "\n",
        "def vectorizing_reward(state, reward, summed_reward, done, reward_size):       # Reminder: change this for your specific task ⚠️⚠️⚠️\n",
        "    if done:\n",
        "        if (state == 15):\n",
        "            reward = np.ones(reward_size)\n",
        "        else:\n",
        "            reward = np.zeros(reward_size)\n",
        "    else:\n",
        "        x, y = divmod(state, 4)\n",
        "        distance = np.sqrt((x - 3) ** 2 + (y - 3) ** 2)\n",
        "        max_distance = np.sqrt(3**2 + 3**2)  # 4.24\n",
        "        idx = int(100 * (1 - (distance / max_distance)))\n",
        "        reward = np.zeros(reward_size)\n",
        "        reward[0: idx        ] = 1\n",
        "    return reward\n"
      ]
    },
    {
      "cell_type": "markdown",
      "metadata": {
        "id": "z7r-W0IeGBR0"
      },
      "source": [
        "# Control board\n",
        "\n",
        "Crucial variables regarding how your agent will learn in the environment\n",
        "\n",
        "- In some environments, it is crucial to increase your \"max_steps_for_each_episode\" so that your agent can \"live long enough\" to obatin some better rewards to gradually and heuristically learn better strategy.\n",
        "\n"
      ]
    },
    {
      "cell_type": "code",
      "execution_count": 25,
      "metadata": {
        "id": "-wKwjw13ftNU"
      },
      "outputs": [],
      "source": [
        "game_name = 'FrozenLake-v1'              # Reminder: change this for your specific task ⚠️⚠️⚠️\n",
        "max_steps_for_each_episode = 25          # Reminder: change this for your specific task ⚠️⚠️⚠️\n",
        "\n",
        "state_size =  16                         # Reminder: change this for your specific task ⚠️⚠️⚠️\n",
        "hidden_size = 100                        # Reminder: change this for your specific task ⚠️⚠️⚠️ (should be dividable by num_heads below)\n",
        "action_size = 4                          # Reminder: change this for your specific task ⚠️⚠️⚠️\n",
        "time_size = 8                            # Reminder: change this for your specific task ⚠️⚠️⚠️\n",
        "chunk_size = 8                           # Reminder: change this for your specific task ⚠️⚠️⚠️\n",
        "reward_size = 100                        # Reminder: change this for your specific task ⚠️⚠️⚠️\n",
        "\n",
        "ensemble_size = 10                       # Reminder: change this value to see the impact of MWM-SGD ◀️◀️◀️\n",
        "neural_type = 'gru'                      # rnn gru lstm\n",
        "num_layers = 2                           # Reminder: change this for your specific task ⚠️⚠️⚠️\n",
        "num_heads  = 10                          # should be able to divide hidden_size\n",
        "hidden_activation = 'tanh'               # relu leaky_relu sigmoid tanh\n",
        "output_activation = 'sigmoid'            # relu leaky_relu sigmoid tanh\n",
        "init = \"random_normal\"                   # random_normal random_uniform xavier_normal xavier_uniform  glorot_normal  glorot_uniform\n",
        "loss = 'mean_squared_error'              # mean_squared_error  binary_crossentropy\n",
        "opti = 'sgd'                             # adam sgd rmsprop\n",
        "alpha = 0.1\n",
        "epoch_for_learning = 10\n",
        "batch_size = 1\n",
        "\n",
        "\n",
        "noise_t = 1\n",
        "noise_r = 0.1\n",
        "beta = 0.1\n",
        "epoch_for_deducing =  int(100/ensemble_size)\n",
        "\n",
        "\n",
        "episode_for_training             = 100000\n",
        "replay_range                     = 2                     # Reminder: change this for your specific task ⚠️⚠️⚠️\n",
        "interval_for_initiating_learning = 50                    # Reminder: change this for your specific task ⚠️⚠️⚠️\n",
        "EWC_lambda = 1                                           # Reminder: change this value to see the impact of EWC ◀️◀️◀️\n",
        "\n",
        "\n",
        "episode_for_testing = 100                # Reminder: change this for your specific task ⚠️⚠️⚠️\n",
        "render_for_human = False                 # Reminder: change this for your specific task ⚠️⚠️⚠️\n",
        "\n",
        "\n",
        "\n",
        "\n",
        "\n",
        "\n",
        "mask_value = sys.maxsize\n",
        "load_pre_model = False\n",
        "suffix                      = f\"ensemble={ensemble_size:05d}_learn={epoch_for_learning:05d}_interval={interval_for_initiating_learning:05d}_deduce={epoch_for_deducing:05d}_lambda={EWC_lambda:05d}\"\n",
        "directory                   = f'/content/Genrl/{game_name}/'\n",
        "model_directory             = f'/content/Genrl/{game_name}/model_{suffix}'+'_%s.h5'\n",
        "performance_log_directory   = f'/content/Genrl/{game_name}/performace_log_{suffix}.csv'"
      ]
    },
    {
      "cell_type": "markdown",
      "metadata": {
        "id": "3Iigp5dSf-v5"
      },
      "source": [
        "# Deducing > Learning\n"
      ]
    },
    {
      "cell_type": "markdown",
      "metadata": {
        "id": "S8YizgloybFp"
      },
      "source": [
        "Creating or loading models"
      ]
    },
    {
      "cell_type": "code",
      "execution_count": 26,
      "metadata": {
        "id": "qsXAP3sNf-v8"
      },
      "outputs": [],
      "source": [
        "\n",
        "if not os.path.exists(directory):\n",
        "    os.makedirs(directory)\n",
        "\n",
        "if load_pre_model == False:\n",
        "\n",
        "    model_loader = []\n",
        "    for _ in range(ensemble_size):\n",
        "        model = build_model(state_size,\n",
        "                            hidden_size,\n",
        "                            action_size,\n",
        "                            time_size,\n",
        "                            reward_size,\n",
        "                            neural_type,\n",
        "                            num_layers,\n",
        "                            num_heads,\n",
        "                            hidden_activation,\n",
        "                            output_activation,\n",
        "                            init,\n",
        "                            opti,\n",
        "                            loss,\n",
        "                            alpha,\n",
        "                            mask_value)\n",
        "        model.to(device)\n",
        "        model_loader.append(model)\n",
        "\n",
        "elif load_pre_model == True:\n",
        "\n",
        "    model_loader = []\n",
        "    for _ in range(ensemble_size):\n",
        "        model = build_model(state_size,\n",
        "                            hidden_size,\n",
        "                            action_size,\n",
        "                            time_size,\n",
        "                            reward_size,\n",
        "                            neural_type,\n",
        "                            num_layers,\n",
        "                            num_heads,\n",
        "                            hidden_activation,\n",
        "                            output_activation,\n",
        "                            init,\n",
        "                            opti,\n",
        "                            loss,\n",
        "                            alpha,\n",
        "                            mask_value)\n",
        "        model.to(device)\n",
        "        model_loader.append(model)\n",
        "\n",
        "    for i in range(len(model_loader)):\n",
        "        model_loader[i].load_state_dict(torch.load( model_directory  % i ))\n"
      ]
    },
    {
      "cell_type": "markdown",
      "metadata": {
        "id": "CKZqQw22ybFp"
      },
      "source": [
        "Creating streams"
      ]
    },
    {
      "cell_type": "code",
      "execution_count": 27,
      "metadata": {
        "id": "oZhPqkHiybFp"
      },
      "outputs": [],
      "source": [
        "stream_list = []\n",
        "for _ in range(ensemble_size):\n",
        "    stream  = torch.cuda.Stream()\n",
        "    stream_list.append(stream)\n"
      ]
    },
    {
      "cell_type": "markdown",
      "metadata": {
        "id": "7dcFdtrcybFq"
      },
      "source": [
        "Creating intial gradient matrices"
      ]
    },
    {
      "cell_type": "code",
      "execution_count": 28,
      "metadata": {
        "id": "81pqjJejwBjg"
      },
      "outputs": [],
      "source": [
        "\"\"\"\n",
        "storing previous models\n",
        "\"\"\"\n",
        "prev_model_loader = copy.deepcopy(model_loader)\n",
        "prev_train_loader_size = 1\n",
        "\n",
        "\"\"\"\n",
        "calculating gradient matrix\n",
        "\"\"\"\n",
        "prev_gradient_matrix_loader = []\n",
        "for model in model_loader:\n",
        "    gradient_matrix = {name: torch.zeros_like(param) for name, param in model.named_parameters()}\n",
        "    prev_gradient_matrix_loader.append( gradient_matrix )\n"
      ]
    },
    {
      "cell_type": "markdown",
      "metadata": {
        "id": "uHawWpOwybFq"
      },
      "source": [
        "Creating desired reward"
      ]
    },
    {
      "cell_type": "code",
      "execution_count": 29,
      "metadata": {
        "id": "niKHSkhECOE1"
      },
      "outputs": [],
      "source": [
        "desired_reward = np.atleast_2d(np.ones(reward_size))\n",
        "desired_reward = torch.tensor(desired_reward, dtype=torch.float).to(device)"
      ]
    },
    {
      "cell_type": "markdown",
      "metadata": {
        "id": "MVNWSZmgybFr"
      },
      "source": [
        "Putting all the previous works into play"
      ]
    },
    {
      "cell_type": "code",
      "execution_count": null,
      "metadata": {
        "colab": {
          "base_uri": "https://localhost:8080/"
        },
        "id": "2-jpi_m6p3RO",
        "outputId": "76095156-fd7c-4048-89b9-b3cfc08b56da"
      },
      "outputs": [
        {
          "output_type": "stream",
          "name": "stderr",
          "text": [
            "  0%|          | 1/100000 [00:00<25:48:30,  1.08it/s]"
          ]
        },
        {
          "output_type": "stream",
          "name": "stdout",
          "text": [
            "Episode 1: Summed_Reward = 0.0\n"
          ]
        },
        {
          "output_type": "stream",
          "name": "stderr",
          "text": [
            "\r  0%|          | 2/100000 [00:01<26:16:34,  1.06it/s]"
          ]
        },
        {
          "output_type": "stream",
          "name": "stdout",
          "text": [
            "Episode 2: Summed_Reward = 0.0\n"
          ]
        },
        {
          "output_type": "stream",
          "name": "stderr",
          "text": [
            "\r  0%|          | 3/100000 [00:03<40:43:37,  1.47s/it]"
          ]
        },
        {
          "output_type": "stream",
          "name": "stdout",
          "text": [
            "Episode 3: Summed_Reward = 0.0\n"
          ]
        },
        {
          "output_type": "stream",
          "name": "stderr",
          "text": [
            "\r  0%|          | 4/100000 [00:04<31:06:12,  1.12s/it]"
          ]
        },
        {
          "output_type": "stream",
          "name": "stdout",
          "text": [
            "Episode 4: Summed_Reward = 0.0\n"
          ]
        },
        {
          "output_type": "stream",
          "name": "stderr",
          "text": [
            "\r  0%|          | 5/100000 [00:08<59:32:59,  2.14s/it]"
          ]
        },
        {
          "output_type": "stream",
          "name": "stdout",
          "text": [
            "Episode 5: Summed_Reward = 0.0\n"
          ]
        },
        {
          "output_type": "stream",
          "name": "stderr",
          "text": [
            "\r  0%|          | 6/100000 [00:10<58:11:25,  2.09s/it]"
          ]
        },
        {
          "output_type": "stream",
          "name": "stdout",
          "text": [
            "Episode 6: Summed_Reward = 0.0\n"
          ]
        },
        {
          "output_type": "stream",
          "name": "stderr",
          "text": [
            "\r  0%|          | 7/100000 [00:12<55:49:49,  2.01s/it]"
          ]
        },
        {
          "output_type": "stream",
          "name": "stdout",
          "text": [
            "Episode 7: Summed_Reward = 0.0\n"
          ]
        },
        {
          "output_type": "stream",
          "name": "stderr",
          "text": [
            "\r  0%|          | 8/100000 [00:14<56:17:08,  2.03s/it]"
          ]
        },
        {
          "output_type": "stream",
          "name": "stdout",
          "text": [
            "Episode 8: Summed_Reward = 0.0\n"
          ]
        },
        {
          "output_type": "stream",
          "name": "stderr",
          "text": [
            "\r  0%|          | 9/100000 [00:17<66:36:19,  2.40s/it]"
          ]
        },
        {
          "output_type": "stream",
          "name": "stdout",
          "text": [
            "Episode 9: Summed_Reward = 0.0\n"
          ]
        },
        {
          "output_type": "stream",
          "name": "stderr",
          "text": [
            "\r  0%|          | 10/100000 [00:18<51:10:53,  1.84s/it]"
          ]
        },
        {
          "output_type": "stream",
          "name": "stdout",
          "text": [
            "Episode 10: Summed_Reward = 0.0\n"
          ]
        },
        {
          "output_type": "stream",
          "name": "stderr",
          "text": [
            "\r  0%|          | 11/100000 [00:22<73:11:57,  2.64s/it]"
          ]
        },
        {
          "output_type": "stream",
          "name": "stdout",
          "text": [
            "Episode 11: Summed_Reward = 0.0\n"
          ]
        },
        {
          "output_type": "stream",
          "name": "stderr",
          "text": [
            "\r  0%|          | 12/100000 [00:24<68:32:25,  2.47s/it]"
          ]
        },
        {
          "output_type": "stream",
          "name": "stdout",
          "text": [
            "Episode 12: Summed_Reward = 0.0\n"
          ]
        },
        {
          "output_type": "stream",
          "name": "stderr",
          "text": [
            "\r  0%|          | 13/100000 [00:26<65:22:53,  2.35s/it]"
          ]
        },
        {
          "output_type": "stream",
          "name": "stdout",
          "text": [
            "Episode 13: Summed_Reward = 0.0\n"
          ]
        },
        {
          "output_type": "stream",
          "name": "stderr",
          "text": [
            "\r  0%|          | 14/100000 [00:27<53:14:17,  1.92s/it]"
          ]
        },
        {
          "output_type": "stream",
          "name": "stdout",
          "text": [
            "Episode 14: Summed_Reward = 0.0\n"
          ]
        },
        {
          "output_type": "stream",
          "name": "stderr",
          "text": [
            "\r  0%|          | 15/100000 [00:29<51:55:00,  1.87s/it]"
          ]
        },
        {
          "output_type": "stream",
          "name": "stdout",
          "text": [
            "Episode 15: Summed_Reward = 0.0\n"
          ]
        },
        {
          "output_type": "stream",
          "name": "stderr",
          "text": [
            "\r  0%|          | 16/100000 [00:36<90:51:59,  3.27s/it]"
          ]
        },
        {
          "output_type": "stream",
          "name": "stdout",
          "text": [
            "Episode 16: Summed_Reward = 0.0\n"
          ]
        },
        {
          "output_type": "stream",
          "name": "stderr",
          "text": [
            "\r  0%|          | 17/100000 [00:36<68:27:57,  2.47s/it]"
          ]
        },
        {
          "output_type": "stream",
          "name": "stdout",
          "text": [
            "Episode 17: Summed_Reward = 0.0\n"
          ]
        },
        {
          "output_type": "stream",
          "name": "stderr",
          "text": [
            "\r  0%|          | 18/100000 [00:41<88:40:12,  3.19s/it]"
          ]
        },
        {
          "output_type": "stream",
          "name": "stdout",
          "text": [
            "Episode 18: Summed_Reward = 0.0\n"
          ]
        },
        {
          "output_type": "stream",
          "name": "stderr",
          "text": [
            "\r  0%|          | 19/100000 [00:43<77:06:02,  2.78s/it]"
          ]
        },
        {
          "output_type": "stream",
          "name": "stdout",
          "text": [
            "Episode 19: Summed_Reward = 0.0\n"
          ]
        },
        {
          "output_type": "stream",
          "name": "stderr",
          "text": [
            "\r  0%|          | 20/100000 [00:44<61:32:01,  2.22s/it]"
          ]
        },
        {
          "output_type": "stream",
          "name": "stdout",
          "text": [
            "Episode 20: Summed_Reward = 0.0\n"
          ]
        },
        {
          "output_type": "stream",
          "name": "stderr",
          "text": [
            "\r  0%|          | 21/100000 [00:46<59:00:49,  2.12s/it]"
          ]
        },
        {
          "output_type": "stream",
          "name": "stdout",
          "text": [
            "Episode 21: Summed_Reward = 0.0\n"
          ]
        },
        {
          "output_type": "stream",
          "name": "stderr",
          "text": [
            "\r  0%|          | 22/100000 [00:49<65:16:58,  2.35s/it]"
          ]
        },
        {
          "output_type": "stream",
          "name": "stdout",
          "text": [
            "Episode 22: Summed_Reward = 0.0\n"
          ]
        },
        {
          "output_type": "stream",
          "name": "stderr",
          "text": [
            "\r  0%|          | 23/100000 [00:49<52:59:03,  1.91s/it]"
          ]
        },
        {
          "output_type": "stream",
          "name": "stdout",
          "text": [
            "Episode 23: Summed_Reward = 0.0\n"
          ]
        },
        {
          "output_type": "stream",
          "name": "stderr",
          "text": [
            "\r  0%|          | 24/100000 [00:51<46:59:36,  1.69s/it]"
          ]
        },
        {
          "output_type": "stream",
          "name": "stdout",
          "text": [
            "Episode 24: Summed_Reward = 0.0\n"
          ]
        },
        {
          "output_type": "stream",
          "name": "stderr",
          "text": [
            "\r  0%|          | 25/100000 [00:51<40:12:37,  1.45s/it]"
          ]
        },
        {
          "output_type": "stream",
          "name": "stdout",
          "text": [
            "Episode 25: Summed_Reward = 0.0\n"
          ]
        },
        {
          "output_type": "stream",
          "name": "stderr",
          "text": [
            "\r  0%|          | 26/100000 [00:55<57:11:09,  2.06s/it]"
          ]
        },
        {
          "output_type": "stream",
          "name": "stdout",
          "text": [
            "Episode 26: Summed_Reward = 0.0\n"
          ]
        },
        {
          "output_type": "stream",
          "name": "stderr",
          "text": [
            "\r  0%|          | 27/100000 [00:56<52:31:49,  1.89s/it]"
          ]
        },
        {
          "output_type": "stream",
          "name": "stdout",
          "text": [
            "Episode 27: Summed_Reward = 0.0\n"
          ]
        },
        {
          "output_type": "stream",
          "name": "stderr",
          "text": [
            "\r  0%|          | 28/100000 [00:58<49:53:51,  1.80s/it]"
          ]
        },
        {
          "output_type": "stream",
          "name": "stdout",
          "text": [
            "Episode 28: Summed_Reward = 0.0\n"
          ]
        },
        {
          "output_type": "stream",
          "name": "stderr",
          "text": [
            "\r  0%|          | 29/100000 [01:00<52:41:05,  1.90s/it]"
          ]
        },
        {
          "output_type": "stream",
          "name": "stdout",
          "text": [
            "Episode 29: Summed_Reward = 0.0\n"
          ]
        },
        {
          "output_type": "stream",
          "name": "stderr",
          "text": [
            "\r  0%|          | 30/100000 [01:01<44:22:49,  1.60s/it]"
          ]
        },
        {
          "output_type": "stream",
          "name": "stdout",
          "text": [
            "Episode 30: Summed_Reward = 0.0\n"
          ]
        },
        {
          "output_type": "stream",
          "name": "stderr",
          "text": [
            "\r  0%|          | 31/100000 [01:03<48:05:03,  1.73s/it]"
          ]
        },
        {
          "output_type": "stream",
          "name": "stdout",
          "text": [
            "Episode 31: Summed_Reward = 0.0\n"
          ]
        },
        {
          "output_type": "stream",
          "name": "stderr",
          "text": [
            "\r  0%|          | 32/100000 [01:06<60:59:04,  2.20s/it]"
          ]
        },
        {
          "output_type": "stream",
          "name": "stdout",
          "text": [
            "Episode 32: Summed_Reward = 1.0\n"
          ]
        },
        {
          "output_type": "stream",
          "name": "stderr",
          "text": [
            "\r  0%|          | 33/100000 [01:07<47:41:23,  1.72s/it]"
          ]
        },
        {
          "output_type": "stream",
          "name": "stdout",
          "text": [
            "Episode 33: Summed_Reward = 0.0\n"
          ]
        },
        {
          "output_type": "stream",
          "name": "stderr",
          "text": [
            "\r  0%|          | 34/100000 [01:10<60:16:37,  2.17s/it]"
          ]
        },
        {
          "output_type": "stream",
          "name": "stdout",
          "text": [
            "Episode 34: Summed_Reward = 0.0\n"
          ]
        },
        {
          "output_type": "stream",
          "name": "stderr",
          "text": [
            "\r  0%|          | 35/100000 [01:12<55:32:50,  2.00s/it]"
          ]
        },
        {
          "output_type": "stream",
          "name": "stdout",
          "text": [
            "Episode 35: Summed_Reward = 0.0\n"
          ]
        },
        {
          "output_type": "stream",
          "name": "stderr",
          "text": [
            "\r  0%|          | 36/100000 [01:13<48:56:43,  1.76s/it]"
          ]
        },
        {
          "output_type": "stream",
          "name": "stdout",
          "text": [
            "Episode 36: Summed_Reward = 0.0\n"
          ]
        },
        {
          "output_type": "stream",
          "name": "stderr",
          "text": [
            "\r  0%|          | 37/100000 [01:17<70:40:53,  2.55s/it]"
          ]
        },
        {
          "output_type": "stream",
          "name": "stdout",
          "text": [
            "Episode 37: Summed_Reward = 0.0\n"
          ]
        },
        {
          "output_type": "stream",
          "name": "stderr",
          "text": [
            "\r  0%|          | 38/100000 [01:19<62:00:36,  2.23s/it]"
          ]
        },
        {
          "output_type": "stream",
          "name": "stdout",
          "text": [
            "Episode 38: Summed_Reward = 0.0\n"
          ]
        },
        {
          "output_type": "stream",
          "name": "stderr",
          "text": [
            "\r  0%|          | 39/100000 [01:21<60:47:39,  2.19s/it]"
          ]
        },
        {
          "output_type": "stream",
          "name": "stdout",
          "text": [
            "Episode 39: Summed_Reward = 0.0\n"
          ]
        },
        {
          "output_type": "stream",
          "name": "stderr",
          "text": [
            "\r  0%|          | 40/100000 [01:23<56:34:54,  2.04s/it]"
          ]
        },
        {
          "output_type": "stream",
          "name": "stdout",
          "text": [
            "Episode 40: Summed_Reward = 0.0\n"
          ]
        },
        {
          "output_type": "stream",
          "name": "stderr",
          "text": [
            "\r  0%|          | 41/100000 [01:25<55:14:43,  1.99s/it]"
          ]
        },
        {
          "output_type": "stream",
          "name": "stdout",
          "text": [
            "Episode 41: Summed_Reward = 0.0\n"
          ]
        },
        {
          "output_type": "stream",
          "name": "stderr",
          "text": [
            "\r  0%|          | 42/100000 [01:26<53:42:39,  1.93s/it]"
          ]
        },
        {
          "output_type": "stream",
          "name": "stdout",
          "text": [
            "Episode 42: Summed_Reward = 0.0\n"
          ]
        },
        {
          "output_type": "stream",
          "name": "stderr",
          "text": [
            "\r  0%|          | 43/100000 [01:27<42:44:12,  1.54s/it]"
          ]
        },
        {
          "output_type": "stream",
          "name": "stdout",
          "text": [
            "Episode 43: Summed_Reward = 0.0\n"
          ]
        },
        {
          "output_type": "stream",
          "name": "stderr",
          "text": [
            "\r  0%|          | 44/100000 [01:29<47:19:44,  1.70s/it]"
          ]
        },
        {
          "output_type": "stream",
          "name": "stdout",
          "text": [
            "Episode 44: Summed_Reward = 0.0\n"
          ]
        },
        {
          "output_type": "stream",
          "name": "stderr",
          "text": [
            "\r  0%|          | 45/100000 [01:30<43:06:16,  1.55s/it]"
          ]
        },
        {
          "output_type": "stream",
          "name": "stdout",
          "text": [
            "Episode 45: Summed_Reward = 0.0\n"
          ]
        },
        {
          "output_type": "stream",
          "name": "stderr",
          "text": [
            "\r  0%|          | 46/100000 [01:35<71:05:12,  2.56s/it]"
          ]
        },
        {
          "output_type": "stream",
          "name": "stdout",
          "text": [
            "Episode 46: Summed_Reward = 0.0\n"
          ]
        },
        {
          "output_type": "stream",
          "name": "stderr",
          "text": [
            "\r  0%|          | 47/100000 [01:40<90:36:20,  3.26s/it]"
          ]
        },
        {
          "output_type": "stream",
          "name": "stdout",
          "text": [
            "Episode 47: Summed_Reward = 0.0\n"
          ]
        },
        {
          "output_type": "stream",
          "name": "stderr",
          "text": [
            "\r  0%|          | 48/100000 [01:42<78:12:43,  2.82s/it]"
          ]
        },
        {
          "output_type": "stream",
          "name": "stdout",
          "text": [
            "Episode 48: Summed_Reward = 0.0\n"
          ]
        },
        {
          "output_type": "stream",
          "name": "stderr",
          "text": [
            "\r  0%|          | 49/100000 [01:43<64:46:40,  2.33s/it]"
          ]
        },
        {
          "output_type": "stream",
          "name": "stdout",
          "text": [
            "Episode 49: Summed_Reward = 0.0\n",
            "Episode 50: Summed_Reward = 0.0\n"
          ]
        }
      ],
      "source": [
        "\n",
        "performance_log = []\n",
        "performance_log.append([0, 0])\n",
        "\n",
        "episode_list = []\n",
        "sequentialized_state_list = []\n",
        "sequentialized_action_list = []\n",
        "sequentialized_reward_list = []\n",
        "sequentialized_next_state_list = []\n",
        "\n",
        "env = gym.make( game_name, is_slippery=False, map_name=\"4x4\")\n",
        "env._max_episode_steps = max_steps_for_each_episode\n",
        "\n",
        "for training_episode in tqdm(range(episode_for_training)):\n",
        "\n",
        "    state_list  = []\n",
        "    action_list = []\n",
        "    reward_list = []\n",
        "\n",
        "    summed_reward = 0\n",
        "\n",
        "    state = env.reset()\n",
        "\n",
        "\n",
        "    # Getting state\n",
        "    state = vectorizing_state(state)\n",
        "    state_list.append(state[0])\n",
        "\n",
        "\n",
        "    for _ in range(sys.maxsize):\n",
        "\n",
        "\n",
        "        # Getting action\n",
        "        state         = torch.tensor(state, dtype=torch.float).to(device)\n",
        "        actions_value = initialize_actions_value(init, noise_t, noise_r,(time_size, action_size) )\n",
        "        actions_value = torch.tensor(actions_value, dtype=torch.float).to(device)\n",
        "        actions_value = update_actions_value(epoch_for_deducing,\n",
        "                                           model_loader,\n",
        "                                           desired_reward,\n",
        "                                           state,\n",
        "                                           actions_value,\n",
        "                                           beta)\n",
        "        action_arg    = int(torch.argmax(actions_value[0, 0]))\n",
        "        action        = vectorizing_action(action_size, action_arg)\n",
        "        action_list.append(action)\n",
        "\n",
        "\n",
        "        # Getting reward\n",
        "        state, reward, done,  info = env.step(action_arg)\n",
        "        summed_reward += reward\n",
        "        reward = vectorizing_reward(state, reward, summed_reward, done, reward_size)\n",
        "        reward_list.append(reward)\n",
        "\n",
        "\n",
        "        # Getting state\n",
        "        state = vectorizing_state(state)\n",
        "        state_list.append(state[0])\n",
        "\n",
        "\n",
        "        if done:\n",
        "            print(f'Episode {training_episode+1}: Summed_Reward = {summed_reward}')\n",
        "            performance_log.append([training_episode+1, summed_reward])\n",
        "            # Save performance log to CSV\n",
        "            save_performance_to_csv(performance_log, performance_log_directory)\n",
        "            break\n",
        "\n",
        "\n",
        "\n",
        "\n",
        "    env.close()\n",
        "\n",
        "\n",
        "\n",
        "\n",
        "    \"\"\"\n",
        "    sequentializing and setting replay range\n",
        "    \"\"\"\n",
        "    sequentialized_state_list_slice, sequentialized_action_list_slice, sequentialized_reward_list_slice, sequentialized_next_state_list_slice = sequentialize(state_list, action_list, reward_list, chunk_size )\n",
        "\n",
        "    episode_list .extend( [ training_episode ] * len(sequentialized_state_list_slice))\n",
        "    sequentialized_state_list       .extend( sequentialized_state_list_slice)\n",
        "    sequentialized_action_list      .extend( sequentialized_action_list_slice)\n",
        "    sequentialized_reward_list      .extend( sequentialized_reward_list_slice)\n",
        "    sequentialized_next_state_list  .extend( sequentialized_next_state_list_slice)\n",
        "\n",
        "\n",
        "\n",
        "\n",
        "    if (training_episode+1) % interval_for_initiating_learning == 0:\n",
        "\n",
        "\n",
        "\n",
        "\n",
        "        episode_list                   = [i for i, a, b, c, d in zip(episode_list, sequentialized_state_list, sequentialized_action_list, sequentialized_reward_list, sequentialized_next_state_list) if ((training_episode - replay_range * interval_for_initiating_learning + 1) <= i <= training_episode)     ]\n",
        "        sequentialized_state_list      = [a for i, a, b, c, d in zip(episode_list, sequentialized_state_list, sequentialized_action_list, sequentialized_reward_list, sequentialized_next_state_list) if ((training_episode - replay_range * interval_for_initiating_learning + 1) <= i <= training_episode)     ]\n",
        "        sequentialized_action_list     = [b for i, a, b, c, d in zip(episode_list, sequentialized_state_list, sequentialized_action_list, sequentialized_reward_list, sequentialized_next_state_list) if ((training_episode - replay_range * interval_for_initiating_learning + 1) <= i <= training_episode)     ]\n",
        "        sequentialized_reward_list     = [c for i, a, b, c, d in zip(episode_list, sequentialized_state_list, sequentialized_action_list, sequentialized_reward_list, sequentialized_next_state_list) if ((training_episode - replay_range * interval_for_initiating_learning + 1) <= i <= training_episode)     ]\n",
        "        sequentialized_next_state_list = [d for i, a, b, c, d in zip(episode_list, sequentialized_state_list, sequentialized_action_list, sequentialized_reward_list, sequentialized_next_state_list) if ((training_episode - replay_range * interval_for_initiating_learning + 1) <= i <= training_episode)     ]\n",
        "\n",
        "\n",
        "\n",
        "\n",
        "        \"\"\"\n",
        "        masking and uploading data\n",
        "        \"\"\"\n",
        "\n",
        "        state_tensor      = torch.stack( [torch.tensor(arr) for arr in sequentialized_state_list]               ).float().to(device)\n",
        "        action_tensor     = torch.stack( [F.pad(torch.tensor(arr),\n",
        "                                                pad=(0, 0, 0, time_size - torch.tensor(arr).size(0)),\n",
        "                                                mode='constant',\n",
        "                                                value= mask_value) for arr in sequentialized_action_list]       ).float().to(device)\n",
        "        reward_tensor     = torch.stack( [torch.tensor(arr) for arr in sequentialized_reward_list]              ).float().to(device)\n",
        "        next_state_tensor = torch.stack( [torch.tensor(arr) for arr in sequentialized_next_state_list]          ).float().to(device)\n",
        "\n",
        "        row_mask     = torch.all(action_tensor == mask_value, dim = -1)\n",
        "        padding_mask = torch.zeros_like(action_tensor, dtype = torch.bool)\n",
        "        padding_mask[row_mask] = True\n",
        "        padding_mask = padding_mask.to(device)\n",
        "\n",
        "        dataset     = TensorDataset(state_tensor, action_tensor, reward_tensor, next_state_tensor, padding_mask)\n",
        "        data_loader = DataLoader(dataset, batch_size = batch_size, shuffle=True)\n",
        "\n",
        "\n",
        "\n",
        "\n",
        "\n",
        "\n",
        "        \"\"\"\n",
        "        learning\n",
        "        \"\"\"\n",
        "        gradient_matrix_loader_ = []\n",
        "        for i, model in enumerate(model_loader):\n",
        "            with torch.cuda.stream(stream_list[i]):\n",
        "                model, gradient_matrix_, train_loader_size_= update_model(batch_size, epoch_for_learning, model, data_loader, dataset, prev_model_loader[i], prev_gradient_matrix_loader[i], prev_train_loader_size, EWC_lambda)\n",
        "                gradient_matrix_loader_.append(gradient_matrix_)\n",
        "                model_loader[i] = model\n",
        "        torch.cuda.synchronize()\n",
        "\n",
        "        prev_gradient_matrix_loader = gradient_matrix_loader_\n",
        "        prev_model_loader           = copy.deepcopy(model_loader)\n",
        "        prev_train_loader_size      = train_loader_size_\n",
        "\n",
        "\n",
        "\n",
        "\n",
        "        \"\"\"\n",
        "        saving\n",
        "        \"\"\"\n",
        "        for i in range(len(model_loader)):\n",
        "            torch.save(model_loader[i].state_dict(), model_directory % i)\n",
        "\n",
        "\n",
        "\n",
        "\n",
        "        gc.collect()\n",
        "        torch.cuda.empty_cache()\n",
        "\n"
      ]
    },
    {
      "cell_type": "markdown",
      "metadata": {
        "id": "E2yunFuFHxgX"
      },
      "source": [
        "# Deducing (testing)"
      ]
    },
    {
      "cell_type": "markdown",
      "metadata": {
        "id": "_yKnuL-uybFr"
      },
      "source": [
        "Loading models"
      ]
    },
    {
      "cell_type": "code",
      "execution_count": null,
      "metadata": {
        "id": "vvIj0Y-Yf-v_"
      },
      "outputs": [],
      "source": [
        "model_loader = []\n",
        "for _ in range(ensemble_size):\n",
        "    model = build_model(state_size,\n",
        "                        hidden_size,\n",
        "                        action_size,\n",
        "                        time_size,\n",
        "                        reward_size,\n",
        "                        neural_type,\n",
        "                        num_layers,\n",
        "                        num_heads,\n",
        "                        hidden_activation,\n",
        "                        output_activation,\n",
        "                        init,\n",
        "                        opti,\n",
        "                        loss,\n",
        "                        alpha,\n",
        "                        mask_value)\n",
        "    model.to(device)\n",
        "    model_loader.append(model)\n",
        "\n",
        "for i in range(len(model_loader)):\n",
        "    model_loader[i].load_state_dict(torch.load(model_directory % i))"
      ]
    },
    {
      "cell_type": "markdown",
      "metadata": {
        "id": "PZMq8U0EybFs"
      },
      "source": [
        "Creating desired reward ... again"
      ]
    },
    {
      "cell_type": "code",
      "execution_count": null,
      "metadata": {
        "id": "kW24TEH7COE2"
      },
      "outputs": [],
      "source": [
        "desired_reward = np.atleast_2d(np.ones(reward_size))\n",
        "desired_reward = torch.tensor(desired_reward, dtype=torch.float).to(device)"
      ]
    },
    {
      "cell_type": "markdown",
      "metadata": {
        "id": "wrkaytS7ybFz"
      },
      "source": [
        "Putting all the previous works into play ... again\n",
        "\n",
        "But this time the agent does not learn"
      ]
    },
    {
      "cell_type": "code",
      "execution_count": null,
      "metadata": {
        "id": "3Nw62kaUbHCb"
      },
      "outputs": [],
      "source": [
        "summed_reward_sum = 0\n",
        "\n",
        "\n",
        "if render_for_human == True:\n",
        "    env =  gym.make( game_name, is_slippery=False, map_name=\"4x4\", render_mode=\"human\")\n",
        "else:\n",
        "    env =  gym.make( game_name, is_slippery=False, map_name=\"4x4\")\n",
        "env._max_episode_steps = max_steps_for_each_episode\n",
        "\n",
        "\n",
        "for testing_episode in range(episode_for_testing):\n",
        "\n",
        "    summed_reward = 0\n",
        "\n",
        "    state                  = env.reset()\n",
        "    if render_for_human == True:\n",
        "        env.render()\n",
        "\n",
        "    # Getting state\n",
        "    state = vectorizing_state(state)\n",
        "\n",
        "\n",
        "    for _ in tqdm(range(sys.maxsize)):\n",
        "\n",
        "\n",
        "        # Getting action\n",
        "        state         = torch.tensor(state, dtype=torch.float).to(device)\n",
        "        actions_value = initialize_actions_value(init, noise_t, noise_r,(time_size, action_size) )\n",
        "        actions_value = torch.tensor(actions_value, dtype=torch.float).to(device)\n",
        "        actions_value = update_actions_value(epoch_for_deducing,\n",
        "                                           model_loader,\n",
        "                                           desired_reward,\n",
        "                                           state,\n",
        "                                           actions_value,\n",
        "                                           beta)\n",
        "        action_arg = int(torch.argmax(actions_value[0, 0]))\n",
        "        action     = vectorizing_action(action_size, action_arg)\n",
        "\n",
        "\n",
        "        # Getting reward\n",
        "        state, reward, done,  info = env.step(action_arg)\n",
        "        if render_for_human == True:\n",
        "            env.render()\n",
        "        summed_reward += reward\n",
        "\n",
        "\n",
        "        # Getting state\n",
        "        state = vectorizing_state(state)\n",
        "\n",
        "\n",
        "        if done:\n",
        "            break\n",
        "\n",
        "\n",
        "    env.close()\n",
        "\n",
        "    print(\"Summed reward:\", summed_reward)\n",
        "    print(f'Episode: {testing_episode + 1}')\n",
        "    print('Everaged reward:')\n",
        "    summed_reward_sum += summed_reward\n",
        "    print(summed_reward_sum/(testing_episode + 1))\n",
        "\n"
      ]
    },
    {
      "cell_type": "code",
      "execution_count": null,
      "metadata": {
        "id": "dbfiVv3_J1Yx"
      },
      "outputs": [],
      "source": []
    },
    {
      "cell_type": "code",
      "execution_count": null,
      "metadata": {
        "id": "XPyPT-qhrXc6"
      },
      "outputs": [],
      "source": []
    },
    {
      "cell_type": "code",
      "execution_count": null,
      "metadata": {
        "id": "DKTJbMhmZvVI"
      },
      "outputs": [],
      "source": []
    },
    {
      "cell_type": "code",
      "execution_count": null,
      "metadata": {
        "id": "kZTU0ScHf-v_"
      },
      "outputs": [],
      "source": []
    },
    {
      "cell_type": "code",
      "execution_count": null,
      "metadata": {
        "id": "RPHpEEIjf-v_"
      },
      "outputs": [],
      "source": []
    },
    {
      "cell_type": "code",
      "execution_count": null,
      "metadata": {
        "id": "tt7yADEof-v_"
      },
      "outputs": [],
      "source": []
    }
  ],
  "metadata": {
    "accelerator": "GPU",
    "colab": {
      "gpuType": "T4",
      "provenance": [],
      "toc_visible": true,
      "include_colab_link": true
    },
    "kernelspec": {
      "display_name": "Python 3",
      "name": "python3"
    },
    "language_info": {
      "codemirror_mode": {
        "name": "ipython",
        "version": 3
      },
      "file_extension": ".py",
      "mimetype": "text/x-python",
      "name": "python",
      "nbconvert_exporter": "python",
      "pygments_lexer": "ipython3",
      "version": "3.9.13"
    }
  },
  "nbformat": 4,
  "nbformat_minor": 0
}
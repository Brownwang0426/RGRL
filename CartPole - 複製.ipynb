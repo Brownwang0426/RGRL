{
  "cells": [
    {
      "cell_type": "markdown",
      "metadata": {
        "colab_type": "text",
        "id": "view-in-github"
      },
      "source": [
        "<a href=\"https://colab.research.google.com/github/Brownwang0426/Genrl/blob/main/CartPole.ipynb\" target=\"_parent\"><img src=\"https://colab.research.google.com/assets/colab-badge.svg\" alt=\"Open In Colab\"/></a>"
      ]
    },
    {
      "cell_type": "markdown",
      "metadata": {
        "id": "BT4dy82Rf-v1"
      },
      "source": [
        "# Installing requirements"
      ]
    },
    {
      "cell_type": "code",
      "execution_count": null,
      "metadata": {
        "id": "4khPQ2_Kf-v1"
      },
      "outputs": [],
      "source": [
        "!sudo apt-get install python3.10"
      ]
    },
    {
      "cell_type": "code",
      "execution_count": null,
      "metadata": {
        "id": "m0y9RfWif-v2"
      },
      "outputs": [],
      "source": [
        "!pip install pandas==2.0.3 numpy==1.25.2 scipy==1.11.4 swig==4.2.1 ufal.pybox2d==2.3.10.3 gym==0.25.2 pygame==2.5.2 tqdm torch==2.0.1"
      ]
    },
    {
      "cell_type": "markdown",
      "metadata": {
        "id": "z6kEiLW6f-v2"
      },
      "source": [
        "# Importing modules"
      ]
    },
    {
      "cell_type": "code",
      "execution_count": 1,
      "metadata": {
        "id": "mVWhBy17f-v3"
      },
      "outputs": [],
      "source": [
        "import gym\n",
        "\n",
        "import numpy as np\n",
        "\n",
        "import torch\n",
        "import torch.optim as optim\n",
        "import torch.nn as nn\n",
        "import torch.nn.functional as F\n",
        "import torch.nn.utils.rnn as rnn_utils\n",
        "from torch.utils.data import DataLoader, TensorDataset\n",
        "\n",
        "import csv\n",
        "\n",
        "import os\n",
        "import sys\n",
        "import copy\n",
        "import random\n",
        "import gc\n",
        "from tqdm import tqdm\n"
      ]
    },
    {
      "cell_type": "markdown",
      "metadata": {
        "id": "ElhExcVoSxd7"
      },
      "source": [
        "# Checking cuda"
      ]
    },
    {
      "cell_type": "code",
      "execution_count": 2,
      "metadata": {
        "colab": {
          "base_uri": "https://localhost:8080/"
        },
        "id": "Aj5V_vlwSxd8",
        "outputId": "cdddab3c-bbf2-47ba-84b1-33b06734b6ce"
      },
      "outputs": [
        {
          "name": "stdout",
          "output_type": "stream",
          "text": [
            "Device 0: NVIDIA T500\n",
            "using cuda...\n"
          ]
        }
      ],
      "source": [
        "if torch.cuda.is_available():\n",
        "    for i in range(torch.cuda.device_count()):\n",
        "        print(f\"Device {i}: {torch.cuda.get_device_name(i)}\")\n",
        "    device_index = 0\n",
        "    device = torch.device(f\"cuda:{device_index}\")\n",
        "    print('using cuda...')\n",
        "else:\n",
        "    device = torch.device(\"cpu\")\n",
        "    print('using cpu...')\n",
        "assert device != torch.device(\"cpu\") # Sorry, but we really recommend you to run it on GPU :-) Nvidia needs your money :-)"
      ]
    },
    {
      "cell_type": "code",
      "execution_count": 3,
      "metadata": {
        "id": "SlwYjPr7CYJd"
      },
      "outputs": [],
      "source": [
        "torch.backends.cudnn.enabled = True\n",
        "torch.backends.cudnn.benchmark = True"
      ]
    },
    {
      "cell_type": "markdown",
      "metadata": {
        "id": "RYykFEEVSxd9"
      },
      "source": [
        "# Class for building model"
      ]
    },
    {
      "cell_type": "code",
      "execution_count": 4,
      "metadata": {
        "id": "7rZC3T9IXZDP"
      },
      "outputs": [],
      "source": [
        "class build_model(nn.Module):\n",
        "    def __init__(self,\n",
        "                 input_neuron_size_,\n",
        "                 hidden_neuron_size,\n",
        "                 input_neuron_size,\n",
        "                 input_sequence_size,\n",
        "                 output_neuron_size,\n",
        "                 neural_type,\n",
        "                 num_layers,\n",
        "                 num_heads,\n",
        "                 hidden_activation,\n",
        "                 output_activation,\n",
        "                 initializer,\n",
        "                 optimizer,\n",
        "                 loss,\n",
        "                 alpha,\n",
        "                 mask_value):\n",
        "\n",
        "        super(build_model, self).__init__()\n",
        "\n",
        "        self.input_neuron_size_   = int(input_neuron_size_)\n",
        "        self.hidden_neuron_size   = int(hidden_neuron_size)\n",
        "        self.input_neuron_size    = int(input_neuron_size)\n",
        "        self.input_sequence_size  = int(input_sequence_size)\n",
        "        self.output_neuron_size   = int(output_neuron_size)\n",
        "        self.neural_type          = neural_type\n",
        "        self.num_heads            = num_heads\n",
        "\n",
        "        self.hidden_activation    = hidden_activation\n",
        "        self.output_activation    = output_activation\n",
        "        self.initializer          = initializer\n",
        "        self.optimizer            = optimizer\n",
        "        self.loss                 = loss\n",
        "        self.alpha                = alpha\n",
        "        self.mask_value           = mask_value\n",
        "\n",
        "        self.bias = False\n",
        "\n",
        "        self.num_layers = num_layers\n",
        "\n",
        "        neural_types = {\n",
        "            'rnn': nn.RNN,\n",
        "            'gru': nn.GRU,\n",
        "            'lstm': nn.LSTM\n",
        "        }\n",
        "\n",
        "        self.fully_connected_layer_in_0      = nn.Linear(self.input_neuron_size_, self.hidden_neuron_size, bias=self.bias)\n",
        "        self.fully_connected_layer_in_1      = nn.Linear(self.hidden_neuron_size, self.hidden_neuron_size, bias=self.bias)\n",
        "\n",
        "        self.fully_connected_layer_out_0     = nn.Linear(self.hidden_neuron_size, self.hidden_neuron_size, bias=self.bias)\n",
        "        self.fully_connected_layer_out_1     = nn.Linear(self.hidden_neuron_size, self.input_neuron_size_, bias=self.bias)\n",
        "\n",
        "        self.recurrent_layer_0               = neural_types[neural_type.lower()](self.input_neuron_size, self.hidden_neuron_size, num_layers=self.num_layers, batch_first=False, bias=self.bias)\n",
        "\n",
        "        # self.attention_layer_0               = nn.MultiheadAttention(self.hidden_neuron_size, self.num_heads)\n",
        "        self.fully_connected_layer_0         = nn.Linear(self.hidden_neuron_size * self.input_sequence_size, self.output_neuron_size, bias=self.bias)\n",
        "\n",
        "        # Activation functions\n",
        "        self.hidden_activation = self.get_activation(self.hidden_activation)\n",
        "        self.output_activation = self.get_activation(self.output_activation)\n",
        "\n",
        "        # Initialize weights for fully connected layers\n",
        "        self.initialize_weights(self.initializer  )\n",
        "\n",
        "        # Optimizer\n",
        "        optimizers = {\n",
        "            'adam': optim.Adam,\n",
        "            'sgd': optim.SGD,\n",
        "            'rmsprop': optim.RMSprop\n",
        "        }\n",
        "        self.selected_optimizer = optimizers[self.optimizer.lower()](self.parameters(), lr=self.alpha)\n",
        "\n",
        "        # Loss function\n",
        "        losses = {\n",
        "            'mean_squared_error': torch.nn.MSELoss(),\n",
        "            'binary_crossentropy': torch.nn.BCELoss()\n",
        "        }\n",
        "        self.loss_function = losses[self.loss .lower()]\n",
        "\n",
        "\n",
        "\n",
        "\n",
        "    def forward(self, initial_hidden, x, padding_mask):\n",
        "\n",
        "        h  = self.fully_connected_layer_in_0(initial_hidden)\n",
        "        h  = self.hidden_activation(h)\n",
        "        h  = self.fully_connected_layer_in_1(h)\n",
        "        h  = self.hidden_activation(h)\n",
        "        h  = torch.unsqueeze(h, dim=0).repeat(self.num_layers, 1, 1)\n",
        "\n",
        "        out        = x.permute(1, 0, 2)\n",
        "        lengths    = (out != self.mask_value).any(dim=2).sum(dim=0).cpu().long() # since x is (sequence_length, batch_size, input_size), we should use sum(dim=0)\n",
        "        out        = rnn_utils.pack_padded_sequence(out, lengths, batch_first=False, enforce_sorted=False)\n",
        "        # Forward propagate RNN\n",
        "        if self.neural_type == 'lstm':\n",
        "            out, h   = self.recurrent_layer_0(out, (h, h))\n",
        "            h        = h[0]\n",
        "        else:\n",
        "            out, h   = self.recurrent_layer_0(out, h)\n",
        "            h        = h\n",
        "        out, _     = rnn_utils.pad_packed_sequence(out, batch_first=False)\n",
        "        padding    = (0, 0, 0, 0, 0, self.input_sequence_size - out.size(0))\n",
        "        out        = F.pad(out, padding, \"constant\", 0)\n",
        "        out        = out.permute(1, 0, 2)\n",
        "\n",
        "        h  = self.fully_connected_layer_out_0(h)\n",
        "        h  = self.hidden_activation(h)\n",
        "        h  = self.fully_connected_layer_out_1(h)\n",
        "        h  = self.output_activation(h)\n",
        "\n",
        "        # if padding_mask is not None:\n",
        "        #     padding_mask = torch.any(padding_mask, dim=-1) # to (batch_size, sequence_length)\n",
        "        # out, _ = self.attention_layer_0(out, out, out, padding_mask)\n",
        "        out    = torch.flatten(out, start_dim=1)\n",
        "        out    = self.fully_connected_layer_0(out)\n",
        "        out    = self.output_activation(out)\n",
        "\n",
        "        return out, h\n",
        "\n",
        "\n",
        "\n",
        "\n",
        "    def get_activation(self,  activation):\n",
        "        activations = {\n",
        "            'relu': nn.ReLU(),\n",
        "            'leaky_relu': nn.LeakyReLU(),\n",
        "            'sigmoid': nn.Sigmoid(),\n",
        "            'tanh': nn.Tanh()\n",
        "        }\n",
        "        return activations[ activation.lower()]\n",
        "\n",
        "    def initialize_weights(self, initializer):\n",
        "        initializers = {\n",
        "            'random_uniform': nn.init.uniform_,\n",
        "            'random_normal': nn.init.normal_,\n",
        "            'glorot_uniform': nn.init.xavier_uniform_,\n",
        "            'glorot_normal': nn.init.xavier_normal_,\n",
        "            'xavier_uniform': nn.init.xavier_uniform_,\n",
        "            'xavier_normal': nn.init.xavier_normal_\n",
        "        }\n",
        "        initializer = initializers[initializer.lower()]\n",
        "        for layer in self.children():\n",
        "            if isinstance(layer, nn.Linear):\n",
        "                initializer(layer.weight)"
      ]
    },
    {
      "cell_type": "markdown",
      "metadata": {
        "id": "KAYsyx03Sxd_"
      },
      "source": [
        "# Function for updating pre-activated actions using error backprop"
      ]
    },
    {
      "cell_type": "code",
      "execution_count": 5,
      "metadata": {
        "id": "ibjd5YRvpQPL"
      },
      "outputs": [],
      "source": [
        "\n",
        "def update_pre_activated_actions(epoch_for_deducing,\n",
        "                                 model_loader,\n",
        "                                 state,\n",
        "                                 pre_activated_actions,\n",
        "                                 desired_reward,\n",
        "                                 beta):\n",
        "\n",
        "    model_loader_copy = copy.deepcopy(model_loader)\n",
        "\n",
        "    for epoch in range(epoch_for_deducing):\n",
        "\n",
        "        random.shuffle(model_loader_copy)\n",
        "\n",
        "        for model in model_loader_copy:\n",
        "\n",
        "            actions = torch.sigmoid(pre_activated_actions)\n",
        "\n",
        "            model.train()\n",
        "            actions = actions.clone().detach().requires_grad_(True)\n",
        "            if actions.grad is not None:\n",
        "                actions.grad.zero_()\n",
        "            for param in model.parameters():\n",
        "                param.requires_grad = False\n",
        "\n",
        "            loss_function = model.loss_function\n",
        "            output, _     = model(state, actions, padding_mask=None)\n",
        "            total_loss    = loss_function(output, desired_reward)\n",
        "            total_loss.backward() # get grad\n",
        "\n",
        "            pre_activated_actions -= actions.grad * (1 - actions) * actions * beta # update params\n",
        "\n",
        "    return pre_activated_actions\n",
        "\n",
        "\n"
      ]
    },
    {
      "cell_type": "markdown",
      "metadata": {
        "id": "yskW6bb1SxeA"
      },
      "source": [
        "# Function for updating model using error backprop\n",
        "\n",
        "Elastic weight consolidation:\n",
        "https://arxiv.org/pdf/1612.00796"
      ]
    },
    {
      "cell_type": "code",
      "execution_count": 6,
      "metadata": {
        "id": "rLQCQigdSxeA"
      },
      "outputs": [],
      "source": [
        "# traditional EWC\n",
        "def EWC_loss(EWC_lambda, model, prev_model, prev_gradient_matrix):\n",
        "    model_param      = model.state_dict()\n",
        "    prev_model_param = prev_model.state_dict()\n",
        "    loss = 0\n",
        "    for name, param in model.named_parameters():\n",
        "        diagonal_fisher_matrix = prev_gradient_matrix[name] ** 2\n",
        "        param_diff             = (model_param[name] - prev_model_param[name]) ** 2\n",
        "        loss                  += (diagonal_fisher_matrix * param_diff).sum()\n",
        "    return EWC_lambda * loss\n",
        "\n",
        "\n",
        "\n",
        "\n",
        "def update_model(epoch_for_learning,\n",
        "                 model,\n",
        "                 train_loader,\n",
        "                 prev_model,\n",
        "                 prev_gradient_matrix,\n",
        "                 EWC_lambda):\n",
        "\n",
        "    for epoch in range(epoch_for_learning):\n",
        "\n",
        "        for state, actions, reward, next_state, padding_mask in train_loader:\n",
        "\n",
        "            next_state  = torch.unsqueeze(next_state, dim=0).repeat(model.num_layers, 1, 1)\n",
        "\n",
        "            model.train()\n",
        "            selected_optimizer = model.selected_optimizer\n",
        "            selected_optimizer.zero_grad()\n",
        "\n",
        "            loss_function        = model.loss_function\n",
        "            output, output_state = model(state, actions, padding_mask)\n",
        "            total_loss           = loss_function(output, reward) + loss_function(output_state, next_state)\n",
        "            total_loss          += EWC_loss(EWC_lambda, model, prev_model, prev_gradient_matrix)\n",
        "            total_loss.backward()     # get grad\n",
        "\n",
        "            selected_optimizer.step() # update params\n",
        "\n",
        "\n",
        "\n",
        "\n",
        "    # training and updating present_gradient_matrix\n",
        "    gradient_matrix = {name: torch.zeros_like(param) for name, param in model.named_parameters()}\n",
        "\n",
        "    for epoch in range(1):\n",
        "\n",
        "        for state, actions, reward, next_state, padding_mask in train_loader:\n",
        "\n",
        "            next_state  = torch.unsqueeze(next_state, dim=0).repeat(model.num_layers, 1, 1)\n",
        "\n",
        "            model.train()\n",
        "            selected_optimizer = model.selected_optimizer\n",
        "            selected_optimizer.zero_grad()\n",
        "\n",
        "            loss_function        = model.loss_function\n",
        "            output, output_state = model(state, actions, padding_mask)\n",
        "            total_loss           = loss_function(output, reward)  + loss_function(output_state, next_state)\n",
        "            total_loss.backward()        # get grad\n",
        "\n",
        "            for name, param in model.named_parameters():\n",
        "                gradient_matrix[name] += param.grad\n",
        "\n",
        "    gradient_matrix = {name: param / len(train_loader) for name, param in gradient_matrix.items()}\n",
        "\n",
        "\n",
        "\n",
        "\n",
        "    return model, gradient_matrix"
      ]
    },
    {
      "cell_type": "markdown",
      "metadata": {
        "id": "ekrw4zh7SxeB"
      },
      "source": [
        "# Function for re-initializing action value in each step"
      ]
    },
    {
      "cell_type": "code",
      "execution_count": 7,
      "metadata": {
        "id": "PlPeg47KB9u4"
      },
      "outputs": [],
      "source": [
        "def initialize_pre_activated_actions(init, noise_t, noise_r, shape):\n",
        "    input = 0\n",
        "    if   init == \"random_uniform\":\n",
        "        for _ in range(noise_t):\n",
        "            input += np.array([  np.random.uniform(low=0, high=1, size=shape)    ]) * noise_r\n",
        "    elif init == \"random_normal\":\n",
        "        for _ in range(noise_t):\n",
        "            input += np.array([  np.random.normal(loc=0.0, scale= 1, size= shape )    ])  * noise_r\n",
        "    elif init == \"glorot_uniform\":\n",
        "        for _ in range(noise_t):\n",
        "            limit = np.sqrt(6 / (shape[1] + shape[1]))\n",
        "            input += np.array([  np.random.uniform(low=-limit, high=limit, size=shape)    ])  * noise_r\n",
        "    elif init == \"glorot_normal\":\n",
        "        for _ in range(noise_t):\n",
        "            input += np.array([  np.random.normal(loc=0.0, scale= np.sqrt(2 / (shape[1] + shape[1])) , size= shape )    ])  * noise_r\n",
        "    elif init == \"xavier_uniform\":\n",
        "        for _ in range(noise_t):\n",
        "            limit = np.sqrt(6 / (shape[1] + shape[1]))\n",
        "            input += np.array([  np.random.uniform(low=-limit, high=limit, size=shape)    ])  * noise_r\n",
        "    elif init == \"xavier_normal\":\n",
        "        for _ in range(noise_t):\n",
        "            input += np.array([  np.random.normal(loc=0.0, scale= np.sqrt(2 / (shape[1] + shape[1])) , size= shape )    ])  * noise_r\n",
        "    return input"
      ]
    },
    {
      "cell_type": "markdown",
      "metadata": {
        "id": "8ENsHGddSxeC"
      },
      "source": [
        "# Function for sequentializing state, action and reward"
      ]
    },
    {
      "cell_type": "code",
      "execution_count": 8,
      "metadata": {
        "id": "9qGocnYQJ4FO"
      },
      "outputs": [],
      "source": [
        "def sequentialize(state_list, action_list, reward_list, chunk_size):\n",
        "\n",
        "    sequentialized_state_list  = []\n",
        "    sequentialized_action_list = []\n",
        "    sequentialized_reward_list = []\n",
        "    sequentialized_next_state_list  = []\n",
        "\n",
        "    if chunk_size > len(state_list[:-1]):\n",
        "        chunk_size = len(state_list[:-1])\n",
        "    else:\n",
        "      pass\n",
        "\n",
        "    for j in range(chunk_size):\n",
        "        chunk_size_ = j+1\n",
        "        if chunk_size != 1:\n",
        "            for i in range(len(reward_list[:-chunk_size_+1])):\n",
        "                sequentialized_state_list.append(       state_list [ i ] )\n",
        "                sequentialized_action_list.append(      action_list[ i : i+chunk_size_]  )\n",
        "                sequentialized_reward_list.append(      reward_list[ i + len(action_list[i:i+chunk_size_]) - 1 ]  )\n",
        "                sequentialized_next_state_list.append(  state_list [ i + len(action_list[i:i+chunk_size_])     ]  )\n",
        "        else:\n",
        "            for i in range(len(reward_list[:])):\n",
        "                sequentialized_state_list.append(       state_list [ i ] )\n",
        "                sequentialized_action_list.append(      action_list[ i : i+chunk_size_]  )\n",
        "                sequentialized_reward_list.append(      reward_list[ i + len(action_list[i:i+chunk_size_]) - 1 ]  )\n",
        "                sequentialized_next_state_list.append(  state_list [ i + len(action_list[i:i+chunk_size_])     ]  )\n",
        "\n",
        "\n",
        "    return sequentialized_state_list, sequentialized_action_list, sequentialized_reward_list, sequentialized_next_state_list\n"
      ]
    },
    {
      "cell_type": "code",
      "execution_count": 9,
      "metadata": {
        "id": "1pAeDkANCOE0"
      },
      "outputs": [],
      "source": [
        "def save_performance_to_csv(performance_log, filename='performance_log.csv'):\n",
        "    with open(filename, mode='w', newline='') as file:\n",
        "        writer = csv.writer(file)\n",
        "        writer.writerow(['Episode', 'Summed_Reward'])\n",
        "        writer.writerows(performance_log)"
      ]
    },
    {
      "cell_type": "markdown",
      "metadata": {
        "id": "mojTrOR-SxeD"
      },
      "source": [
        "# Function for vectorizing\n",
        "Crucial function regarding how you manipulate or shape your state, action and reward\n",
        "\n",
        "- It's essential to choose between immediate rewards and summed rewards for training your agent. If the current state doesn't encapsulate all crucial past information, using immediate rewards is advisable. This approach prevents confusion caused by varying summed rewards for the same state.\n",
        "\n",
        "- As for reward shaping, it is recommended to increase your reward upper and decrease your reward lower bound."
      ]
    },
    {
      "cell_type": "code",
      "execution_count": 10,
      "metadata": {
        "id": "ocRA9mwzSxeD"
      },
      "outputs": [],
      "source": [
        "\n",
        "def quantifying(array_size, init, interval, input):\n",
        "    array = np.zeros(array_size)\n",
        "    index = int( (input - init) // interval + 1)\n",
        "    if index >= 0:\n",
        "        array[ : index] = 1\n",
        "    return array\n",
        "\n",
        "def vectorizing_state(state):      # Reminder: change this for your specific task ⚠️⚠️⚠️\n",
        "    state_0 = quantifying(100, -2.5, 0.050, state[0])\n",
        "    state_1 = quantifying(100, -3.75, 0.075, state[1])\n",
        "    state_2 = quantifying(100, -0.375, 0.0075, state[2])\n",
        "    state_3 = quantifying(100, -3.75, 0.075, state[3])\n",
        "    state_4 = quantifying(100, 0, 10, 0)\n",
        "    state   = np.atleast_2d(np.concatenate((state_0, state_1, state_2, state_3, state_4)))\n",
        "    return state\n",
        "\n",
        "def vectorizing_action(action_size, action_argmax):  # Reminder: change this for your specific task ⚠️⚠️⚠️\n",
        "    return np.eye(action_size)[action_argmax]\n",
        "\n",
        "def vectorizing_reward(state, reward, summed_reward, done, reward_size):       # Reminder: change this for your specific task ⚠️⚠️⚠️\n",
        "    if done:\n",
        "        reward = np.zeros(reward_size)\n",
        "    else:\n",
        "        reward = np.ones(reward_size)\n",
        "    return reward\n"
      ]
    },
    {
      "cell_type": "markdown",
      "metadata": {
        "id": "z7r-W0IeGBR0"
      },
      "source": [
        "# Control board\n",
        "\n",
        "Crucial variables regarding how your agent will learn in the environment\n",
        "\n",
        "- In some environments, it is crucial to increase your \"max_steps_for_each_episode\" so that your agent can \"live long enough\" to obatin some better rewards to gradually and heuristically learn better strategy.\n",
        "\n"
      ]
    },
    {
      "cell_type": "code",
      "execution_count": 11,
      "metadata": {
        "id": "-wKwjw13ftNU"
      },
      "outputs": [],
      "source": [
        "game_name = 'CartPole-v1'                # Reminder: change this for your specific task ⚠️⚠️⚠️\n",
        "max_steps_for_each_episode = 2000        # Reminder: change this for your specific task ⚠️⚠️⚠️\n",
        "\n",
        "\n",
        "ensemble_size = 10                       # Reminder: change this value to see the impact of MWM-SGD ◀️◀️◀️\n",
        "state_size =  500                        # Reminder: change this for your specific task ⚠️⚠️⚠️\n",
        "hidden_size = 100                        # Reminder: change this for your specific task ⚠️⚠️⚠️ (should be dividable by num_heads below)\n",
        "action_size = 2                          # Reminder: change this for your specific task ⚠️⚠️⚠️\n",
        "time_size = 15                           # Reminder: change this for your specific task ⚠️⚠️⚠️\n",
        "chunk_size = 15                          # Reminder: change this for your specific task ⚠️⚠️⚠️\n",
        "reward_size = 100                        # Reminder: change this for your specific task ⚠️⚠️⚠️\n",
        "neural_type = 'gru'                      # rnn gru lstm\n",
        "num_layers = 2                           # Reminder: change this for your specific task ⚠️⚠️⚠️\n",
        "num_heads = 10                           # should be able to divide hidden_size\n",
        "hidden_activation = 'tanh'               # relu leaky_relu sigmoid tanh\n",
        "output_activation = 'sigmoid'            # relu leaky_relu sigmoid tanh\n",
        "init = \"random_normal\"                   # random_normal random_uniform xavier_normal xavier_uniform  glorot_normal  glorot_uniform\n",
        "opti = 'sgd'                             # adam sgd rmsprop\n",
        "loss = 'mean_squared_error'              # mean_squared_error  binary_crossentropy\n",
        "alpha = 0.1\n",
        "mask_value = sys.maxsize\n",
        "epoch_for_learning = 10\n",
        "batch_size = 1                  \n",
        "load_pre_model = False\n",
        "\n",
        "\n",
        "noise_t = 1\n",
        "noise_r = 0.1\n",
        "beta = 0.1\n",
        "epoch_for_deducing =  int(100/ensemble_size)\n",
        "\n",
        "\n",
        "episode_for_training             = 100000\n",
        "interval_for_initiating_learning = 1                     \n",
        "replay_t = 1000                                          # Reminder: change this for your specific task ⚠️⚠️⚠️                         \n",
        "EWC_lambda = 1                                           # Reminder: change this value to see the impact of EWC ◀️◀️◀️\n",
        "\n",
        "\n",
        "episode_for_testing = 100                # Reminder: change this for your specific task ⚠️⚠️⚠️\n",
        "render_for_human = False                 # Reminder: change this for your specific task ⚠️⚠️⚠️\n",
        "\n",
        "\n",
        "suffix                      = f\"ensemble={ensemble_size:05d}_learn={epoch_for_learning:05d}_interval={interval_for_initiating_learning:05d}_deduce={epoch_for_deducing:05d}_lambda={EWC_lambda:05d}\"\n",
        "directory                   = f'/content/Genrl/{game_name}/'\n",
        "model_directory             = f'/content/Genrl/{game_name}/model_{suffix}'+'_%s.h5'\n",
        "performance_log_directory   = f'/content/Genrl/{game_name}/performace_log_{suffix}.csv'"
      ]
    },
    {
      "cell_type": "markdown",
      "metadata": {
        "id": "3Iigp5dSf-v5"
      },
      "source": [
        "# Deducing > Learning\n"
      ]
    },
    {
      "cell_type": "markdown",
      "metadata": {
        "id": "7A6aXOy7SxeE"
      },
      "source": [
        "Creating or loading models"
      ]
    },
    {
      "cell_type": "code",
      "execution_count": 12,
      "metadata": {
        "id": "qsXAP3sNf-v8"
      },
      "outputs": [],
      "source": [
        "\n",
        "if not os.path.exists(directory):\n",
        "    os.makedirs(directory)\n",
        "\n",
        "if load_pre_model == False:\n",
        "\n",
        "    model_loader = []\n",
        "    for _ in range(ensemble_size):\n",
        "        model = build_model(state_size,\n",
        "                            hidden_size,\n",
        "                            action_size,\n",
        "                            time_size,\n",
        "                            reward_size,\n",
        "                            neural_type,\n",
        "                            num_layers,\n",
        "                            num_heads,\n",
        "                            hidden_activation,\n",
        "                            output_activation,\n",
        "                            init,\n",
        "                            opti,\n",
        "                            loss,\n",
        "                            alpha,\n",
        "                            mask_value)\n",
        "        model.to(device)\n",
        "        model_loader.append(model)\n",
        "\n",
        "elif load_pre_model == True:\n",
        "\n",
        "    model_loader = []\n",
        "    for _ in range(ensemble_size):\n",
        "        model = build_model(state_size,\n",
        "                            hidden_size,\n",
        "                            action_size,\n",
        "                            time_size,\n",
        "                            reward_size,\n",
        "                            neural_type,\n",
        "                            num_layers,\n",
        "                            num_heads,\n",
        "                            hidden_activation,\n",
        "                            output_activation,\n",
        "                            init,\n",
        "                            opti,\n",
        "                            loss,\n",
        "                            alpha,\n",
        "                            mask_value)\n",
        "        model.to(device)\n",
        "        model_loader.append(model)\n",
        "\n",
        "    for i in range(len(model_loader)):\n",
        "        model_loader[i].load_state_dict(torch.load( model_directory  % i ))\n"
      ]
    },
    {
      "cell_type": "markdown",
      "metadata": {
        "id": "F5XdQIBpSxeF"
      },
      "source": [
        "Creating Streams"
      ]
    },
    {
      "cell_type": "code",
      "execution_count": 13,
      "metadata": {
        "colab": {
          "base_uri": "https://localhost:8080/"
        },
        "id": "Qfp24ueJSxeG",
        "outputId": "6a7f9c87-5235-499b-905d-73364a63c3bf"
      },
      "outputs": [],
      "source": [
        "stream_list = []\n",
        "for _ in range(ensemble_size):\n",
        "    stream  = torch.cuda.Stream()\n",
        "    stream_list.append(stream)\n"
      ]
    },
    {
      "cell_type": "markdown",
      "metadata": {
        "id": "SulHSk5_SxeG"
      },
      "source": [
        "Creating intial gradient matrices"
      ]
    },
    {
      "cell_type": "code",
      "execution_count": 14,
      "metadata": {
        "id": "81pqjJejwBjg"
      },
      "outputs": [],
      "source": [
        "\"\"\"\n",
        "storing previous models\n",
        "\"\"\"\n",
        "prev_model_loader = copy.deepcopy(model_loader)\n",
        "\n",
        "\"\"\"\n",
        "calculating gradient matrix\n",
        "\"\"\"\n",
        "prev_gradient_matrix_loader = []\n",
        "for model in model_loader:\n",
        "    gradient_matrix = {name: torch.zeros_like(param) for name, param in model.named_parameters()}\n",
        "    prev_gradient_matrix_loader.append( gradient_matrix )\n"
      ]
    },
    {
      "cell_type": "markdown",
      "metadata": {
        "id": "LZ6VzvFnSxeH"
      },
      "source": [
        "Creating desired reward"
      ]
    },
    {
      "cell_type": "code",
      "execution_count": 15,
      "metadata": {
        "id": "niKHSkhECOE1"
      },
      "outputs": [],
      "source": [
        "desired_reward = np.atleast_2d(np.ones(reward_size))\n",
        "desired_reward = torch.tensor(desired_reward, dtype=torch.float).to(device)"
      ]
    },
    {
      "cell_type": "markdown",
      "metadata": {
        "id": "lInxZXYjSxeI"
      },
      "source": [
        "Putting all the previous works into play"
      ]
    },
    {
      "cell_type": "code",
      "execution_count": 16,
      "metadata": {
        "colab": {
          "base_uri": "https://localhost:8080/"
        },
        "id": "2-jpi_m6p3RO",
        "outputId": "05be77b4-5249-445b-f024-d6523713feb0"
      },
      "outputs": [
        {
          "name": "stderr",
          "output_type": "stream",
          "text": [
            "  0%|          | 0/100000 [00:00<?, ?it/s]c:\\Users\\M\\AppData\\Local\\anaconda3\\envs\\Genrl\\lib\\site-packages\\gym\\core.py:317: DeprecationWarning: \u001b[33mWARN: Initializing wrapper in old step API which returns one bool instead of two. It is recommended to set `new_step_api=True` to use new step API. This will be the default behaviour in future.\u001b[0m\n",
            "  deprecation(\n",
            "c:\\Users\\M\\AppData\\Local\\anaconda3\\envs\\Genrl\\lib\\site-packages\\gym\\wrappers\\step_api_compatibility.py:39: DeprecationWarning: \u001b[33mWARN: Initializing environment in old step API which returns one bool instead of two. It is recommended to set `new_step_api=True` to use new step API. This will be the default behaviour in future.\u001b[0m\n",
            "  deprecation(\n",
            "c:\\Users\\M\\AppData\\Local\\anaconda3\\envs\\Genrl\\lib\\site-packages\\torch\\nn\\modules\\rnn.py:1142: UserWarning: RNN module weights are not part of single contiguous chunk of memory. This means they need to be compacted at every call, possibly greatly increasing memory usage. To compact weights again call flatten_parameters(). (Triggered internally at C:\\actions-runner\\_work\\pytorch\\pytorch\\builder\\windows\\pytorch\\aten\\src\\ATen\\native\\cudnn\\RNN.cpp:1424.)\n",
            "  result = _VF.gru(input, batch_sizes, hx, self._flat_weights, self.bias,\n",
            "c:\\Users\\M\\AppData\\Local\\anaconda3\\envs\\Genrl\\lib\\site-packages\\gym\\utils\\passive_env_checker.py:241: DeprecationWarning: `np.bool8` is a deprecated alias for `np.bool_`.  (Deprecated NumPy 1.24)\n",
            "  if not isinstance(terminated, (bool, np.bool8)):\n"
          ]
        },
        {
          "name": "stdout",
          "output_type": "stream",
          "text": [
            "Episode 1: Summed_Reward = 17.0\n"
          ]
        },
        {
          "name": "stderr",
          "output_type": "stream",
          "text": [
            "C:\\Users\\M\\AppData\\Local\\Temp\\ipykernel_2248\\3133475909.py:120: UserWarning: Creating a tensor from a list of numpy.ndarrays is extremely slow. Please consider converting the list to a single numpy.ndarray with numpy.array() before converting to a tensor. (Triggered internally at C:\\actions-runner\\_work\\pytorch\\pytorch\\builder\\windows\\pytorch\\torch\\csrc\\utils\\tensor_new.cpp:281.)\n",
            "  actions_tensor    = torch.stack( [F.pad(torch.tensor(arr),\n",
            "  0%|          | 1/100000 [02:19<3883:13:39, 139.80s/it]"
          ]
        },
        {
          "name": "stdout",
          "output_type": "stream",
          "text": [
            "Episode 2: Summed_Reward = 26.0\n"
          ]
        },
        {
          "name": "stderr",
          "output_type": "stream",
          "text": [
            "  0%|          | 2/100000 [08:34<7715:05:34, 277.75s/it]"
          ]
        },
        {
          "name": "stdout",
          "output_type": "stream",
          "text": [
            "Episode 3: Summed_Reward = 20.0\n"
          ]
        },
        {
          "name": "stderr",
          "output_type": "stream",
          "text": [
            "  0%|          | 3/100000 [17:19<10858:57:27, 390.93s/it]"
          ]
        },
        {
          "name": "stdout",
          "output_type": "stream",
          "text": [
            "Episode 4: Summed_Reward = 13.0\n"
          ]
        },
        {
          "name": "stderr",
          "output_type": "stream",
          "text": [
            "  0%|          | 4/100000 [27:07<13015:12:16, 468.57s/it]"
          ]
        },
        {
          "name": "stdout",
          "output_type": "stream",
          "text": [
            "Episode 5: Summed_Reward = 26.0\n"
          ]
        },
        {
          "name": "stderr",
          "output_type": "stream",
          "text": [
            "  0%|          | 5/100000 [40:15<16220:51:34, 583.98s/it]"
          ]
        },
        {
          "name": "stdout",
          "output_type": "stream",
          "text": [
            "Episode 6: Summed_Reward = 57.0\n"
          ]
        }
      ],
      "source": [
        "\n",
        "performance_log = []\n",
        "performance_log.append([0, 0])\n",
        "\n",
        "# initializing long term experience replay buffer\n",
        "sequentialized_state_list      = []\n",
        "sequentialized_actions_list    = []\n",
        "sequentialized_reward_list     = []\n",
        "sequentialized_next_state_list = []\n",
        "\n",
        "for training_episode in tqdm(range(episode_for_training)):\n",
        "\n",
        "    # initializing short term experience replay buffer\n",
        "    state_list  = []\n",
        "    action_list = []\n",
        "    reward_list = []\n",
        "\n",
        "    # initializing environment\n",
        "    env           = gym.make(game_name)\n",
        "    env._max_episode_steps = max_steps_for_each_episode\n",
        "    state         = env.reset()\n",
        "    summed_reward = 0\n",
        "\n",
        "    # observing state \n",
        "    state = vectorizing_state(state)\n",
        "    state_list.append(state[0])\n",
        "\n",
        "    done = False\n",
        "    while not done:\n",
        "\n",
        "        # initializing and updating actions\n",
        "        state                 = torch.tensor(state, dtype=torch.float).to(device)\n",
        "        pre_activated_actions = initialize_pre_activated_actions(init, noise_t, noise_r, (time_size, action_size))\n",
        "        pre_activated_actions = torch.tensor(pre_activated_actions, dtype=torch.float).to(device)\n",
        "        pre_activated_actions = update_pre_activated_actions(epoch_for_deducing,\n",
        "                                                             model_loader,\n",
        "                                                             state,\n",
        "                                                             pre_activated_actions,\n",
        "                                                             desired_reward,\n",
        "                                                             beta)\n",
        "        action_argmax    = int(torch.argmax(pre_activated_actions[0, 0]))\n",
        "        action           = vectorizing_action(action_size, action_argmax)\n",
        "        action_list.append(action)\n",
        "\n",
        "        # executing action\n",
        "        state, reward, done, info = env.step(action_argmax)\n",
        "\n",
        "        # observing actual reward\n",
        "        summed_reward += reward\n",
        "        reward = vectorizing_reward(state, reward, summed_reward, done, reward_size)\n",
        "        reward_list.append(reward)\n",
        "\n",
        "        # observing state \n",
        "        state = vectorizing_state(state)\n",
        "        state_list.append(state[0])\n",
        "\n",
        "        if done:\n",
        "            print(f'Episode {training_episode+1}: Summed_Reward = {summed_reward}')\n",
        "            performance_log.append([training_episode+1, summed_reward])\n",
        "            save_performance_to_csv(performance_log, performance_log_directory)\n",
        "            break\n",
        "\n",
        "\n",
        "\n",
        "\n",
        "    env.close()\n",
        "\n",
        "\n",
        "\n",
        "\n",
        "    # sequentializing short term experience replay buffer\n",
        "    sequentialized_state_list_slice, sequentialized_actions_list_slice, sequentialized_reward_list_slice, sequentialized_next_state_list_slice = sequentialize(state_list, action_list, reward_list, chunk_size )\n",
        "\n",
        "\n",
        "\n",
        "\n",
        "    # storing sequentialized experience to long term experience replay buffer\n",
        "    sequentialized_state_list       .extend(sequentialized_state_list_slice)\n",
        "    sequentialized_actions_list     .extend(sequentialized_actions_list_slice)\n",
        "    sequentialized_reward_list      .extend(sequentialized_reward_list_slice)\n",
        "    sequentialized_next_state_list  .extend(sequentialized_next_state_list_slice)\n",
        "\n",
        "\n",
        "\n",
        "\n",
        "    # batch offline learning\n",
        "    if (training_episode+1) % interval_for_initiating_learning == 0:\n",
        "\n",
        "\n",
        "\n",
        "\n",
        "        # performing uniform experience replay:\n",
        "        # We use the most plain uniform experience replay method where the experience of the agent (state, actions, reward, next_state) \n",
        "        # are randomly selected across the long term replay buffer.\n",
        "        # There are also other kinds of experience replay method such as:\n",
        "        #     - Prioritized Experience Replay\n",
        "        #     - Weighted Experience Replay\n",
        "        #     - etc.\n",
        "        # Readers are welcome to try other kinds of replay methods.\n",
        "        # However, for demonstration purpose, we use the most plain uniform experience replay method in this paper.\n",
        "        num_indices = replay_t\n",
        "        total_len   = len(sequentialized_state_list)\n",
        "        if num_indices > total_len:\n",
        "            num_indices = total_len\n",
        "        random_index = random.choices(range(total_len), k = num_indices)\n",
        "        sequentialized_state_list_uniform      = []\n",
        "        sequentialized_actions_list_uniform    = []\n",
        "        sequentialized_reward_list_uniform     = []\n",
        "        sequentialized_next_state_list_uniform = []\n",
        "        sequentialized_state_list_uniform     .extend([sequentialized_state_list [i]      for i in  random_index  ]  )\n",
        "        sequentialized_actions_list_uniform   .extend([sequentialized_actions_list [i]    for i in  random_index  ]  )\n",
        "        sequentialized_reward_list_uniform    .extend([sequentialized_reward_list [i]     for i in  random_index  ]  )\n",
        "        sequentialized_next_state_list_uniform.extend([sequentialized_next_state_list [i] for i in  random_index  ]  )\n",
        "\n",
        "\n",
        "\n",
        "\n",
        "        # masking and uploading data\n",
        "        state_tensor      = torch.stack( [torch.tensor(arr) for arr in sequentialized_state_list_uniform]               ).float().to(device)\n",
        "        actions_tensor    = torch.stack( [F.pad(torch.tensor(arr),\n",
        "                                                pad=(0, 0, 0, time_size - torch.tensor(arr).size(0)),\n",
        "                                                mode='constant',\n",
        "                                                value= mask_value) for arr in sequentialized_actions_list_uniform]      ).float().to(device)\n",
        "        reward_tensor     = torch.stack( [torch.tensor(arr) for arr in sequentialized_reward_list_uniform]              ).float().to(device)\n",
        "        next_state_tensor = torch.stack( [torch.tensor(arr) for arr in sequentialized_next_state_list_uniform]          ).float().to(device)\n",
        "\n",
        "        row_mask     = torch.all(actions_tensor == mask_value, dim = -1)\n",
        "        padding_mask = torch.zeros_like(actions_tensor, dtype = torch.bool)\n",
        "        padding_mask[row_mask] = True\n",
        "        padding_mask = padding_mask.to(device)\n",
        "\n",
        "        dataset      = TensorDataset(state_tensor, actions_tensor, reward_tensor, next_state_tensor, padding_mask)\n",
        "        data_loader  = DataLoader(dataset, batch_size = batch_size, shuffle=True)\n",
        "\n",
        "\n",
        "\n",
        "\n",
        "        # learning\n",
        "        gradient_matrix_loader = [''] * len(model_loader)\n",
        "        for i, model in enumerate(model_loader):\n",
        "            with torch.cuda.stream(stream_list[i]):\n",
        "                model, gradient_matrix    = update_model(epoch_for_learning, model, data_loader, prev_model_loader[i], prev_gradient_matrix_loader[i], EWC_lambda)\n",
        "                model_loader[i]           = model\n",
        "                gradient_matrix_loader[i] = gradient_matrix\n",
        "        torch.cuda.synchronize()\n",
        "        prev_model_loader           = copy.deepcopy(model_loader)\n",
        "        prev_gradient_matrix_loader = copy.deepcopy(gradient_matrix_loader)\n",
        "\n",
        "\n",
        "\n",
        "\n",
        "        # saving:\n",
        "        for i in range(len(model_loader)):\n",
        "            torch.save(model_loader[i].state_dict(), model_directory % i)\n",
        "\n",
        "\n",
        "        gc.collect()\n",
        "        torch.cuda.empty_cache()\n",
        "\n"
      ]
    },
    {
      "cell_type": "markdown",
      "metadata": {
        "id": "E2yunFuFHxgX"
      },
      "source": [
        "# Deducing (testing)"
      ]
    },
    {
      "cell_type": "markdown",
      "metadata": {
        "id": "HLG0dkigSxeJ"
      },
      "source": [
        "Loading models"
      ]
    },
    {
      "cell_type": "code",
      "execution_count": null,
      "metadata": {
        "id": "vvIj0Y-Yf-v_"
      },
      "outputs": [],
      "source": [
        "model_loader = []\n",
        "for _ in range(ensemble_size):\n",
        "    model = build_model(state_size,\n",
        "                        hidden_size,\n",
        "                        action_size,\n",
        "                        time_size,\n",
        "                        reward_size,\n",
        "                        neural_type,\n",
        "                        num_layers,\n",
        "                        num_heads,\n",
        "                        hidden_activation,\n",
        "                        output_activation,\n",
        "                        init,\n",
        "                        opti,\n",
        "                        loss,\n",
        "                        alpha,\n",
        "                        mask_value)\n",
        "    model.to(device)\n",
        "    model_loader.append(model)\n",
        "\n",
        "for i in range(len(model_loader)):\n",
        "    model_loader[i].load_state_dict(torch.load(model_directory % i))"
      ]
    },
    {
      "cell_type": "markdown",
      "metadata": {
        "id": "1lRIFvTYSxeJ"
      },
      "source": [
        "Creating desired reward ... again"
      ]
    },
    {
      "cell_type": "code",
      "execution_count": null,
      "metadata": {
        "id": "kW24TEH7COE2"
      },
      "outputs": [],
      "source": [
        "desired_reward = np.atleast_2d(np.ones(reward_size))\n",
        "desired_reward = torch.tensor(desired_reward, dtype=torch.float).to(device)"
      ]
    },
    {
      "cell_type": "markdown",
      "metadata": {
        "id": "3R3maKQXSxeR"
      },
      "source": [
        "Putting all the previous works into play ... again\n",
        "\n",
        "But this time the agent does not learn"
      ]
    },
    {
      "cell_type": "code",
      "execution_count": null,
      "metadata": {
        "id": "3Nw62kaUbHCb"
      },
      "outputs": [],
      "source": [
        "total_summed_reward = 0\n",
        "\n",
        "for testing_episode in range(episode_for_testing):\n",
        "\n",
        "    if render_for_human == True:\n",
        "        env = gym.make( game_name, render_mode=\"human\")\n",
        "    else:\n",
        "        env = gym.make( game_name)\n",
        "    env._max_episode_steps = max_steps_for_each_episode\n",
        "    state                  = env.reset()\n",
        "    if render_for_human == True:\n",
        "        env.render()\n",
        "    summed_reward = 0\n",
        "\n",
        "    state = vectorizing_state(state)\n",
        "\n",
        "    done = False\n",
        "    while not done:\n",
        "\n",
        "        state                 = torch.tensor(state, dtype=torch.float).to(device)\n",
        "        pre_activated_actions = initialize_pre_activated_actions(init, noise_t, noise_r, (time_size, action_size))\n",
        "        pre_activated_actions = torch.tensor(pre_activated_actions, dtype=torch.float).to(device)\n",
        "        pre_activated_actions = update_pre_activated_actions(epoch_for_deducing,\n",
        "                                                             model_loader,\n",
        "                                                             state,\n",
        "                                                             pre_activated_actions,\n",
        "                                                             desired_reward,\n",
        "                                                             beta)\n",
        "        action_argmax    = int(torch.argmax(pre_activated_actions[0, 0]))\n",
        "\n",
        "        state, reward, done,  info = env.step(action_argmax)\n",
        "        if render_for_human == True:\n",
        "            env.render()\n",
        "\n",
        "        summed_reward += reward\n",
        "\n",
        "        state = vectorizing_state(state)\n",
        "\n",
        "        if done:\n",
        "            break\n",
        "\n",
        "\n",
        "    env.close()\n",
        "\n",
        "    print(\"Summed reward:\", summed_reward)\n",
        "    print(f'Episode: {testing_episode + 1}')\n",
        "    print('Everaged summed reward:')\n",
        "    total_summed_reward += summed_reward\n",
        "    print(total_summed_reward/(testing_episode + 1))\n",
        "\n"
      ]
    },
    {
      "cell_type": "code",
      "execution_count": null,
      "metadata": {
        "id": "dbfiVv3_J1Yx"
      },
      "outputs": [],
      "source": []
    },
    {
      "cell_type": "code",
      "execution_count": null,
      "metadata": {
        "id": "XPyPT-qhrXc6"
      },
      "outputs": [],
      "source": []
    },
    {
      "cell_type": "code",
      "execution_count": null,
      "metadata": {
        "id": "DKTJbMhmZvVI"
      },
      "outputs": [],
      "source": []
    },
    {
      "cell_type": "code",
      "execution_count": null,
      "metadata": {
        "id": "kZTU0ScHf-v_"
      },
      "outputs": [],
      "source": []
    },
    {
      "cell_type": "code",
      "execution_count": null,
      "metadata": {
        "id": "RPHpEEIjf-v_"
      },
      "outputs": [],
      "source": []
    },
    {
      "cell_type": "code",
      "execution_count": null,
      "metadata": {
        "id": "tt7yADEof-v_"
      },
      "outputs": [],
      "source": []
    }
  ],
  "metadata": {
    "accelerator": "GPU",
    "colab": {
      "gpuType": "T4",
      "include_colab_link": true,
      "provenance": []
    },
    "kernelspec": {
      "display_name": "Python 3",
      "name": "python3"
    },
    "language_info": {
      "codemirror_mode": {
        "name": "ipython",
        "version": 3
      },
      "file_extension": ".py",
      "mimetype": "text/x-python",
      "name": "python",
      "nbconvert_exporter": "python",
      "pygments_lexer": "ipython3",
      "version": "3.9.13"
    }
  },
  "nbformat": 4,
  "nbformat_minor": 0
}
